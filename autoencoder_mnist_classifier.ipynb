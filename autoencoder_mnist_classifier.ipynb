{
  "nbformat": 4,
  "nbformat_minor": 0,
  "metadata": {
    "colab": {
      "name": "autoencoder_mnist_classifier.ipynb",
      "provenance": [],
      "collapsed_sections": []
    },
    "kernelspec": {
      "name": "python3",
      "display_name": "Python 3"
    },
    "accelerator": "GPU"
  },
  "cells": [
    {
      "cell_type": "markdown",
      "metadata": {
        "id": "1qxPUqaFYAbG"
      },
      "source": [
        "# Autoencoder MNIST Classifier\n",
        "\n",
        "Reference: Advanced Deep Learning with TensorFlow 2 and Keras by Rowel Atienza, Chapter 3: Autoencoders"
      ]
    },
    {
      "cell_type": "code",
      "metadata": {
        "id": "3nCBju8MBB6T"
      },
      "source": [
        "import numpy as np\n",
        "import tensorflow as tf\n",
        "from tensorflow.keras.layers import Activation, Dense, Dropout, Input, BatchNormalization\n",
        "from tensorflow.keras.layers import Conv2D, MaxPooling2D, Flatten\n",
        "from tensorflow.keras.layers import Reshape, Conv2DTranspose, UpSampling2D\n",
        "from tensorflow.keras.models import Model\n",
        "from tensorflow.keras.datasets import mnist\n",
        "from tensorflow.keras.utils import to_categorical\n",
        "from tensorflow.keras.utils import plot_model\n",
        "\n",
        "import math\n",
        "import matplotlib.pyplot as plt"
      ],
      "execution_count": 1,
      "outputs": []
    },
    {
      "cell_type": "code",
      "metadata": {
        "id": "Y48m5zZBBLq8"
      },
      "source": [
        "# Load the MNIST data.\n",
        "(x_train, y_train), (x_test, y_test) = mnist.load_data()\n",
        "\n",
        "# Categorically encode the labels.\n",
        "y_train = to_categorical(y_train)\n",
        "y_test = to_categorical(y_test)\n",
        "\n",
        "# Reshape the data into the shape the network expects.\n",
        "x_train = np.reshape(x_train, [-1, 28, 28, 1])\n",
        "x_test = np.reshape(x_test, [-1, 28, 28, 1])\n",
        "\n",
        "# Scale the data so that all values are in the [0, 1] interval.\n",
        "x_train = x_train.astype('float32') / 255\n",
        "x_test = x_test.astype('float32') / 255"
      ],
      "execution_count": 2,
      "outputs": []
    },
    {
      "cell_type": "code",
      "metadata": {
        "colab": {
          "base_uri": "https://localhost:8080/"
        },
        "id": "VnFvqQxJB4zv",
        "outputId": "19ed0910-ffb3-4bc0-def2-672709d2fb0c"
      },
      "source": [
        "# Network parameters\n",
        "latent_dim = 2\n",
        "\n",
        "# Encoder\n",
        "inputs = Input(shape=(28, 28, 1), name='encoder_input')\n",
        "x = inputs\n",
        "\n",
        "x = Conv2D(filters=32, kernel_size=3, activation='relu', padding='same')(x)\n",
        "x = BatchNormalization()(x)\n",
        "x = Conv2D(filters=32, kernel_size=3, activation='relu', padding='same')(x)\n",
        "x = BatchNormalization()(x)\n",
        "x = MaxPooling2D()(x)\n",
        "\n",
        "x = Conv2D(filters=64, kernel_size=3, activation='relu', padding='same')(x)\n",
        "x = BatchNormalization()(x)\n",
        "x = Conv2D(filters=64, kernel_size=3, activation='relu', padding='same')(x)\n",
        "x = BatchNormalization()(x)\n",
        "x = MaxPooling2D()(x)\n",
        "\n",
        "# Shape info needed to build decoder model\n",
        "shape = x.shape.as_list()\n",
        "\n",
        "# Generate a 16-dim latent vector\n",
        "x = Flatten()(x)\n",
        "latent = Dense(latent_dim, name='latent_vector')(x)\n",
        "\n",
        "# Instantiate encoder model\n",
        "encoder = Model(inputs, latent, name='encoder')\n",
        "encoder.summary()\n",
        "#plot_model(encoder, to_file='classifier-encoder.png', show_shapes=True)"
      ],
      "execution_count": 3,
      "outputs": [
        {
          "output_type": "stream",
          "text": [
            "Model: \"encoder\"\n",
            "_________________________________________________________________\n",
            "Layer (type)                 Output Shape              Param #   \n",
            "=================================================================\n",
            "encoder_input (InputLayer)   [(None, 28, 28, 1)]       0         \n",
            "_________________________________________________________________\n",
            "conv2d (Conv2D)              (None, 28, 28, 32)        320       \n",
            "_________________________________________________________________\n",
            "batch_normalization (BatchNo (None, 28, 28, 32)        128       \n",
            "_________________________________________________________________\n",
            "conv2d_1 (Conv2D)            (None, 28, 28, 32)        9248      \n",
            "_________________________________________________________________\n",
            "batch_normalization_1 (Batch (None, 28, 28, 32)        128       \n",
            "_________________________________________________________________\n",
            "max_pooling2d (MaxPooling2D) (None, 14, 14, 32)        0         \n",
            "_________________________________________________________________\n",
            "conv2d_2 (Conv2D)            (None, 14, 14, 64)        18496     \n",
            "_________________________________________________________________\n",
            "batch_normalization_2 (Batch (None, 14, 14, 64)        256       \n",
            "_________________________________________________________________\n",
            "conv2d_3 (Conv2D)            (None, 14, 14, 64)        36928     \n",
            "_________________________________________________________________\n",
            "batch_normalization_3 (Batch (None, 14, 14, 64)        256       \n",
            "_________________________________________________________________\n",
            "max_pooling2d_1 (MaxPooling2 (None, 7, 7, 64)          0         \n",
            "_________________________________________________________________\n",
            "flatten (Flatten)            (None, 3136)              0         \n",
            "_________________________________________________________________\n",
            "latent_vector (Dense)        (None, 2)                 6274      \n",
            "=================================================================\n",
            "Total params: 72,034\n",
            "Trainable params: 71,650\n",
            "Non-trainable params: 384\n",
            "_________________________________________________________________\n"
          ],
          "name": "stdout"
        }
      ]
    },
    {
      "cell_type": "code",
      "metadata": {
        "colab": {
          "base_uri": "https://localhost:8080/"
        },
        "id": "xmubMQvnVzVz",
        "outputId": "ba101361-1e75-4567-f58f-afc421986fbe"
      },
      "source": [
        "print(shape[1])\n",
        "print(shape[2])\n",
        "print(shape[3])"
      ],
      "execution_count": 4,
      "outputs": [
        {
          "output_type": "stream",
          "text": [
            "7\n",
            "7\n",
            "64\n"
          ],
          "name": "stdout"
        }
      ]
    },
    {
      "cell_type": "code",
      "metadata": {
        "colab": {
          "base_uri": "https://localhost:8080/"
        },
        "id": "kPax-WI3NneR",
        "outputId": "77eede05-6654-445f-8190-187fd7681093"
      },
      "source": [
        "# Decoder\n",
        "latent_inputs = Input(shape=(latent_dim,), name='decoder_input')\n",
        "x = Dense(shape[1] * shape[2] * shape[3])(latent_inputs)\n",
        "x = Reshape((shape[1], shape[2], shape[3]))(x)\n",
        "\n",
        "x = Conv2DTranspose(filters=64, kernel_size=3, activation='relu', padding='same')(x)\n",
        "x = BatchNormalization()(x)\n",
        "x = Conv2DTranspose(filters=64, kernel_size=3, activation='relu', padding='same')(x)\n",
        "x = BatchNormalization()(x)\n",
        "x = UpSampling2D()(x)\n",
        "\n",
        "x = Conv2DTranspose(filters=32, kernel_size=3, activation='relu', padding='same')(x)\n",
        "x = BatchNormalization()(x)\n",
        "x = Conv2DTranspose(filters=32, kernel_size=3, activation='relu', padding='same')(x)\n",
        "x = BatchNormalization()(x)\n",
        "x = UpSampling2D()(x)\n",
        "\n",
        "x = Conv2DTranspose(filters=1, kernel_size=3, padding='same')(x)\n",
        "\n",
        "outputs = Activation('sigmoid', name='decoder_output')(x)\n",
        "\n",
        "# The decoder model takes in the latent layer and outputs the sigmoid layer.\n",
        "decoder = Model(latent_inputs, outputs, name='decoder')\n",
        "decoder.summary()"
      ],
      "execution_count": 5,
      "outputs": [
        {
          "output_type": "stream",
          "text": [
            "Model: \"decoder\"\n",
            "_________________________________________________________________\n",
            "Layer (type)                 Output Shape              Param #   \n",
            "=================================================================\n",
            "decoder_input (InputLayer)   [(None, 2)]               0         \n",
            "_________________________________________________________________\n",
            "dense (Dense)                (None, 3136)              9408      \n",
            "_________________________________________________________________\n",
            "reshape (Reshape)            (None, 7, 7, 64)          0         \n",
            "_________________________________________________________________\n",
            "conv2d_transpose (Conv2DTran (None, 7, 7, 64)          36928     \n",
            "_________________________________________________________________\n",
            "batch_normalization_4 (Batch (None, 7, 7, 64)          256       \n",
            "_________________________________________________________________\n",
            "conv2d_transpose_1 (Conv2DTr (None, 7, 7, 64)          36928     \n",
            "_________________________________________________________________\n",
            "batch_normalization_5 (Batch (None, 7, 7, 64)          256       \n",
            "_________________________________________________________________\n",
            "up_sampling2d (UpSampling2D) (None, 14, 14, 64)        0         \n",
            "_________________________________________________________________\n",
            "conv2d_transpose_2 (Conv2DTr (None, 14, 14, 32)        18464     \n",
            "_________________________________________________________________\n",
            "batch_normalization_6 (Batch (None, 14, 14, 32)        128       \n",
            "_________________________________________________________________\n",
            "conv2d_transpose_3 (Conv2DTr (None, 14, 14, 32)        9248      \n",
            "_________________________________________________________________\n",
            "batch_normalization_7 (Batch (None, 14, 14, 32)        128       \n",
            "_________________________________________________________________\n",
            "up_sampling2d_1 (UpSampling2 (None, 28, 28, 32)        0         \n",
            "_________________________________________________________________\n",
            "conv2d_transpose_4 (Conv2DTr (None, 28, 28, 1)         289       \n",
            "_________________________________________________________________\n",
            "decoder_output (Activation)  (None, 28, 28, 1)         0         \n",
            "=================================================================\n",
            "Total params: 112,033\n",
            "Trainable params: 111,649\n",
            "Non-trainable params: 384\n",
            "_________________________________________________________________\n"
          ],
          "name": "stdout"
        }
      ]
    },
    {
      "cell_type": "markdown",
      "metadata": {
        "id": "Ut_LX1ZoQ0d6"
      },
      "source": [
        "![Neural Network](https://storage.googleapis.com/activation-function/images/jupyter/ae-classifier.svg)\n",
        "\n",
        "<b>Figure 1.</b> Architecture of autoencoder as an image classifier"
      ]
    },
    {
      "cell_type": "code",
      "metadata": {
        "id": "QkcrRUDbNsjL",
        "colab": {
          "base_uri": "https://localhost:8080/"
        },
        "outputId": "6120ac5d-d12d-4e4d-f19a-f9f107663f14"
      },
      "source": [
        "# Classifier Model\n",
        "latent_inputs = Input(shape=(latent_dim,), name='classifier_input')\n",
        "x = Dense(512)(latent_inputs)\n",
        "x = Activation('relu')(x)\n",
        "x = Dropout(0.4)(x)\n",
        "x = Dense(256)(x)\n",
        "x = Activation('relu')(x)\n",
        "x = Dropout(0.4)(x)\n",
        "x = Dense(10)(x)\n",
        "classifier_outputs = Activation('softmax', name='classifier_output')(x)\n",
        "classifier = Model(latent_inputs, classifier_outputs, name='classifier')\n",
        "classifier.summary()"
      ],
      "execution_count": 6,
      "outputs": [
        {
          "output_type": "stream",
          "text": [
            "Model: \"classifier\"\n",
            "_________________________________________________________________\n",
            "Layer (type)                 Output Shape              Param #   \n",
            "=================================================================\n",
            "classifier_input (InputLayer [(None, 2)]               0         \n",
            "_________________________________________________________________\n",
            "dense_1 (Dense)              (None, 512)               1536      \n",
            "_________________________________________________________________\n",
            "activation (Activation)      (None, 512)               0         \n",
            "_________________________________________________________________\n",
            "dropout (Dropout)            (None, 512)               0         \n",
            "_________________________________________________________________\n",
            "dense_2 (Dense)              (None, 256)               131328    \n",
            "_________________________________________________________________\n",
            "activation_1 (Activation)    (None, 256)               0         \n",
            "_________________________________________________________________\n",
            "dropout_1 (Dropout)          (None, 256)               0         \n",
            "_________________________________________________________________\n",
            "dense_3 (Dense)              (None, 10)                2570      \n",
            "_________________________________________________________________\n",
            "classifier_output (Activatio (None, 10)                0         \n",
            "=================================================================\n",
            "Total params: 135,434\n",
            "Trainable params: 135,434\n",
            "Non-trainable params: 0\n",
            "_________________________________________________________________\n"
          ],
          "name": "stdout"
        }
      ]
    },
    {
      "cell_type": "markdown",
      "metadata": {
        "id": "XKhopIPub1aj"
      },
      "source": [
        "We'll now put together a siamese network that outputs two things, a classifier and a decoder. They both take in the encoder model as input, but the layers that they add to the encoder are different. The classifier model adds dense layers and a final softmax layer, while the decoder model adds convolutional layers that are mirror opposite of the encoder convolutional layers."
      ]
    },
    {
      "cell_type": "code",
      "metadata": {
        "colab": {
          "base_uri": "https://localhost:8080/",
          "height": 601
        },
        "id": "3cw7Oytcby0A",
        "outputId": "e4595d2c-68e0-49eb-9a76-73e02e4ea220"
      },
      "source": [
        "autoencoder = Model(inputs,\n",
        "                    [classifier(encoder(inputs)), decoder(encoder(inputs))],\n",
        "                    name='autodecoder')\n",
        "autoencoder.summary()\n",
        "plot_model(autoencoder, to_file='classifier-autoencoder.png', show_shapes=True)"
      ],
      "execution_count": 7,
      "outputs": [
        {
          "output_type": "stream",
          "text": [
            "Model: \"autodecoder\"\n",
            "__________________________________________________________________________________________________\n",
            "Layer (type)                    Output Shape         Param #     Connected to                     \n",
            "==================================================================================================\n",
            "encoder_input (InputLayer)      [(None, 28, 28, 1)]  0                                            \n",
            "__________________________________________________________________________________________________\n",
            "encoder (Functional)            (None, 2)            72034       encoder_input[0][0]              \n",
            "                                                                 encoder_input[0][0]              \n",
            "__________________________________________________________________________________________________\n",
            "classifier (Functional)         (None, 10)           135434      encoder[0][0]                    \n",
            "__________________________________________________________________________________________________\n",
            "decoder (Functional)            (None, 28, 28, 1)    112033      encoder[1][0]                    \n",
            "==================================================================================================\n",
            "Total params: 319,501\n",
            "Trainable params: 318,733\n",
            "Non-trainable params: 768\n",
            "__________________________________________________________________________________________________\n"
          ],
          "name": "stdout"
        },
        {
          "output_type": "execute_result",
          "data": {
            "image/png": "[encoded data removed]",
            "text/plain": [
              "<IPython.core.display.Image object>"
            ]
          },
          "metadata": {
            "tags": []
          },
          "execution_count": 7
        }
      ]
    },
    {
      "cell_type": "code",
      "metadata": {
        "id": "rENo1uPINwAn",
        "colab": {
          "base_uri": "https://localhost:8080/"
        },
        "outputId": "adf42d6c-526a-4b7a-bb66-5330f35adf7f"
      },
      "source": [
        "# Loss function is categorical_crossentropy for the classifier.\n",
        "# Loss function is mse for the decoder.\n",
        "autoencoder.compile(loss=['categorical_crossentropy', 'mse'],\n",
        "                    optimizer='adam',\n",
        "                    metrics=['accuracy', 'mse'])\n",
        "\n",
        "# Train the autoencoder for 3 epochs.\n",
        "# y_train/y_test are the labels for the classifier output.\n",
        "# x_train/x_test are the labels for the decoder output.\n",
        "autoencoder.fit(x_train, [y_train, x_train],                \n",
        "                validation_data=(x_test, [y_test, x_test]),\n",
        "                epochs=3, batch_size=128)"
      ],
      "execution_count": 8,
      "outputs": [
        {
          "output_type": "stream",
          "text": [
            "Epoch 1/3\n",
            "469/469 [==============================] - 7s 15ms/step - loss: 0.6587 - classifier_loss: 0.5903 - decoder_loss: 0.0684 - classifier_accuracy: 0.7909 - classifier_mse: 0.0281 - decoder_accuracy: 0.7825 - decoder_mse: 0.0684 - val_loss: 0.3421 - val_classifier_loss: 0.2869 - val_decoder_loss: 0.0552 - val_classifier_accuracy: 0.9086 - val_classifier_mse: 0.0133 - val_decoder_accuracy: 0.7964 - val_decoder_mse: 0.0552\n",
            "Epoch 2/3\n",
            "469/469 [==============================] - 7s 14ms/step - loss: 0.3309 - classifier_loss: 0.2769 - decoder_loss: 0.0540 - classifier_accuracy: 0.9125 - classifier_mse: 0.0128 - decoder_accuracy: 0.7944 - decoder_mse: 0.0540 - val_loss: 0.3142 - val_classifier_loss: 0.2609 - val_decoder_loss: 0.0533 - val_classifier_accuracy: 0.9148 - val_classifier_mse: 0.0124 - val_decoder_accuracy: 0.7941 - val_decoder_mse: 0.0533\n",
            "Epoch 3/3\n",
            "469/469 [==============================] - 6s 13ms/step - loss: 0.2642 - classifier_loss: 0.2112 - decoder_loss: 0.0530 - classifier_accuracy: 0.9353 - classifier_mse: 0.0096 - decoder_accuracy: 0.7950 - decoder_mse: 0.0530 - val_loss: 0.2350 - val_classifier_loss: 0.1826 - val_decoder_loss: 0.0524 - val_classifier_accuracy: 0.9439 - val_classifier_mse: 0.0083 - val_decoder_accuracy: 0.7914 - val_decoder_mse: 0.0524\n"
          ],
          "name": "stdout"
        },
        {
          "output_type": "execute_result",
          "data": {
            "text/plain": [
              "<tensorflow.python.keras.callbacks.History at 0x7f25b00fcf28>"
            ]
          },
          "metadata": {
            "tags": []
          },
          "execution_count": 8
        }
      ]
    },
    {
      "cell_type": "markdown",
      "metadata": {
        "id": "dFfR0-IKa2yO"
      },
      "source": [
        "Get predictions from the autoencoder siamese network. y_hat is the prediction set of the classifier. x_decoded is the prediction set of the classifier."
      ]
    },
    {
      "cell_type": "code",
      "metadata": {
        "id": "s9NVz2SjNzAB",
        "colab": {
          "base_uri": "https://localhost:8080/"
        },
        "outputId": "c028f55f-1f83-4cc2-d9b8-1e535e6f6329"
      },
      "source": [
        "y_hat, x_decoded = autoencoder.predict(x_test)\n",
        "print('y_test:', np.argmax(y_test[:10], axis=1))\n",
        "print('y_hat: ', np.argmax(y_hat[:10], axis=1))"
      ],
      "execution_count": 9,
      "outputs": [
        {
          "output_type": "stream",
          "text": [
            "y_test: [7 2 1 0 4 1 4 9 5 9]\n",
            "y_hat:  [7 2 1 0 4 1 4 9 5 9]\n"
          ],
          "name": "stdout"
        }
      ]
    },
    {
      "cell_type": "markdown",
      "metadata": {
        "id": "ktlPnClgXbHa"
      },
      "source": [
        "10 out of 10 correct predictions. Very nice."
      ]
    },
    {
      "cell_type": "code",
      "metadata": {
        "id": "8dknjI0cNzKK",
        "colab": {
          "base_uri": "https://localhost:8080/",
          "height": 264
        },
        "outputId": "9ea9baca-93f1-4f6b-93c2-f8e7a6cac30f"
      },
      "source": [
        "# Display the 1st 8 input and decoded images.\n",
        "imgs = np.concatenate([x_test[:8], x_decoded[:8]])\n",
        "imgs = imgs.reshape((4, 4, 28, 28))\n",
        "imgs = np.vstack([np.hstack(i) for i in imgs])\n",
        "plt.figure()\n",
        "plt.axis('off')\n",
        "plt.title('Input: 1st 2 rows, Decoded: last 2 rows')\n",
        "plt.imshow(imgs, interpolation='none', cmap='gray')\n",
        "plt.savefig('input_and_decoded.png')\n",
        "plt.show()"
      ],
      "execution_count": 10,
      "outputs": [
        {
          "output_type": "display_data",
          "data": {
            "image/png": "[encoded data removed]",
            "text/plain": [
              "<Figure size 432x288 with 1 Axes>"
            ]
          },
          "metadata": {
            "tags": [],
            "needs_background": "light"
          }
        }
      ]
    },
    {
      "cell_type": "markdown",
      "metadata": {
        "id": "2T1Cd8Gwadfu"
      },
      "source": [
        "The decoder outputted images that are very similar to the original x_test validation images. This slight similarity shows that some information was lost in the autoencoder's bottleneck layer."
      ]
    },
    {
      "cell_type": "code",
      "metadata": {
        "colab": {
          "base_uri": "https://localhost:8080/"
        },
        "id": "AVZIm4lFw6el",
        "outputId": "4bf11032-6a81-47ff-8748-d77cde0efa0b"
      },
      "source": [
        "latent = encoder.predict(x_test)\n",
        "print(latent.shape)\n",
        "print(latent[0])\n",
        "print(np.argmax(y_test, axis=1).shape)"
      ],
      "execution_count": 20,
      "outputs": [
        {
          "output_type": "stream",
          "text": [
            "(10000, 2)\n",
            "[10.538261 17.500576]\n",
            "(10000,)\n"
          ],
          "name": "stdout"
        }
      ]
    },
    {
      "cell_type": "code",
      "metadata": {
        "colab": {
          "base_uri": "https://localhost:8080/",
          "height": 286
        },
        "id": "r0Vg06Zse8RS",
        "outputId": "7b3912bf-7248-4a3b-f2c8-4f744d901582"
      },
      "source": [
        "fig, ax = plt.subplots(1, 2)\n",
        "ax[0].scatter(latent[:,0],latent[:,1],\n",
        "\tc=np.argmax(y_test, axis=1), s=8, cmap='tab10')"
      ],
      "execution_count": 23,
      "outputs": [
        {
          "output_type": "execute_result",
          "data": {
            "text/plain": [
              "<matplotlib.collections.PathCollection at 0x7f24fcf4dc18>"
            ]
          },
          "metadata": {
            "tags": []
          },
          "execution_count": 23
        },
        {
          "output_type": "display_data",
          "data": {
            "image/png": "[encoded data removed]",
            "text/plain": [
              "<Figure size 432x288 with 2 Axes>"
            ]
          },
          "metadata": {
            "tags": [],
            "needs_background": "light"
          }
        }
      ]
    }
  ]
}
