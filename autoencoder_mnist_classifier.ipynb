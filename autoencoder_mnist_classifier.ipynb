{
  "nbformat": 4,
  "nbformat_minor": 0,
  "metadata": {
    "colab": {
      "name": "autoencoder_mnist_classifier.ipynb",
      "provenance": [],
      "collapsed_sections": []
    },
    "kernelspec": {
      "name": "python3",
      "display_name": "Python 3"
    },
    "accelerator": "GPU"
  },
  "cells": [
    {
      "cell_type": "markdown",
      "metadata": {
        "id": "1qxPUqaFYAbG"
      },
      "source": [
        "# Autoencoder MNIST Classifier\n",
        "\n",
        "Reference: Advanced Deep Learning with TensorFlow 2 and Keras by Rowel Atienza, Chapter 3: Autoencoders"
      ]
    },
    {
      "cell_type": "code",
      "metadata": {
        "id": "3nCBju8MBB6T"
      },
      "source": [
        "import numpy as np\n",
        "import tensorflow as tf\n",
        "from tensorflow.keras.layers import Activation, Dense, Dropout, Input, BatchNormalization\n",
        "from tensorflow.keras.layers import Conv2D, MaxPooling2D, Flatten\n",
        "from tensorflow.keras.layers import Reshape, Conv2DTranspose, UpSampling2D\n",
        "from tensorflow.keras.models import Model\n",
        "from tensorflow.keras.datasets import mnist\n",
        "from tensorflow.keras.utils import to_categorical\n",
        "from tensorflow.keras.utils import plot_model\n",
        "\n",
        "import math\n",
        "import matplotlib.pyplot as plt"
      ],
      "execution_count": 1,
      "outputs": []
    },
    {
      "cell_type": "markdown",
      "metadata": {
        "id": "dRMpXG0foW9W"
      },
      "source": [
        "### Get the data"
      ]
    },
    {
      "cell_type": "code",
      "metadata": {
        "id": "Y48m5zZBBLq8"
      },
      "source": [
        "# Load the MNIST data.\n",
        "(x_train, y_train), (x_test, y_test) = mnist.load_data()\n",
        "\n",
        "# Categorically encode the labels.\n",
        "y_train = to_categorical(y_train)\n",
        "y_test = to_categorical(y_test)\n",
        "\n",
        "# Reshape the data into the shape the network expects.\n",
        "x_train = np.reshape(x_train, [-1, 28, 28, 1])\n",
        "x_test = np.reshape(x_test, [-1, 28, 28, 1])\n",
        "\n",
        "# Scale the data so that all values are in the [0, 1] interval.\n",
        "x_train = x_train.astype('float32') / 255\n",
        "x_test = x_test.astype('float32') / 255"
      ],
      "execution_count": 2,
      "outputs": []
    },
    {
      "cell_type": "markdown",
      "metadata": {
        "id": "dfdfJtBAoUY4"
      },
      "source": [
        "### Encoder model"
      ]
    },
    {
      "cell_type": "code",
      "metadata": {
        "colab": {
          "base_uri": "https://localhost:8080/"
        },
        "id": "VnFvqQxJB4zv",
        "outputId": "19638237-7f65-48c0-e73c-39145af1d40b"
      },
      "source": [
        "latent_dim = 2\n",
        "\n",
        "# Encoder\n",
        "inputs = Input(shape=(28, 28, 1), name='encoder_input')\n",
        "x = inputs\n",
        "\n",
        "x = Conv2D(filters=32, kernel_size=3, activation='relu', padding='same')(x)\n",
        "x = BatchNormalization()(x)\n",
        "x = Conv2D(filters=32, kernel_size=3, activation='relu', padding='same')(x)\n",
        "x = BatchNormalization()(x)\n",
        "x = MaxPooling2D()(x)\n",
        "\n",
        "x = Conv2D(filters=64, kernel_size=3, activation='relu', padding='same')(x)\n",
        "x = BatchNormalization()(x)\n",
        "x = Conv2D(filters=64, kernel_size=3, activation='relu', padding='same')(x)\n",
        "x = BatchNormalization()(x)\n",
        "x = MaxPooling2D()(x)\n",
        "\n",
        "# Shape info needed to build decoder model\n",
        "shape = x.shape.as_list()\n",
        "\n",
        "# Generate a 2-dim latent vector\n",
        "x = Flatten()(x)\n",
        "latent = Dense(latent_dim, name='latent_vector')(x)\n",
        "\n",
        "# Instantiate encoder model\n",
        "encoder = Model(inputs, latent, name='encoder')\n",
        "encoder.summary()\n",
        "#plot_model(encoder, to_file='classifier-encoder.png', show_shapes=True)"
      ],
      "execution_count": 3,
      "outputs": [
        {
          "output_type": "stream",
          "text": [
            "Model: \"encoder\"\n",
            "_________________________________________________________________\n",
            "Layer (type)                 Output Shape              Param #   \n",
            "=================================================================\n",
            "encoder_input (InputLayer)   [(None, 28, 28, 1)]       0         \n",
            "_________________________________________________________________\n",
            "conv2d (Conv2D)              (None, 28, 28, 32)        320       \n",
            "_________________________________________________________________\n",
            "batch_normalization (BatchNo (None, 28, 28, 32)        128       \n",
            "_________________________________________________________________\n",
            "conv2d_1 (Conv2D)            (None, 28, 28, 32)        9248      \n",
            "_________________________________________________________________\n",
            "batch_normalization_1 (Batch (None, 28, 28, 32)        128       \n",
            "_________________________________________________________________\n",
            "max_pooling2d (MaxPooling2D) (None, 14, 14, 32)        0         \n",
            "_________________________________________________________________\n",
            "conv2d_2 (Conv2D)            (None, 14, 14, 64)        18496     \n",
            "_________________________________________________________________\n",
            "batch_normalization_2 (Batch (None, 14, 14, 64)        256       \n",
            "_________________________________________________________________\n",
            "conv2d_3 (Conv2D)            (None, 14, 14, 64)        36928     \n",
            "_________________________________________________________________\n",
            "batch_normalization_3 (Batch (None, 14, 14, 64)        256       \n",
            "_________________________________________________________________\n",
            "max_pooling2d_1 (MaxPooling2 (None, 7, 7, 64)          0         \n",
            "_________________________________________________________________\n",
            "flatten (Flatten)            (None, 3136)              0         \n",
            "_________________________________________________________________\n",
            "latent_vector (Dense)        (None, 2)                 6274      \n",
            "=================================================================\n",
            "Total params: 72,034\n",
            "Trainable params: 71,650\n",
            "Non-trainable params: 384\n",
            "_________________________________________________________________\n"
          ],
          "name": "stdout"
        }
      ]
    },
    {
      "cell_type": "markdown",
      "metadata": {
        "id": "Sa-Bo6zUoO20"
      },
      "source": [
        "### Decoder model"
      ]
    },
    {
      "cell_type": "code",
      "metadata": {
        "colab": {
          "base_uri": "https://localhost:8080/"
        },
        "id": "kPax-WI3NneR",
        "outputId": "1e1bf3ec-c5a5-4011-f800-4f4383e6cc20"
      },
      "source": [
        "# Decoder\n",
        "latent_inputs = Input(shape=(latent_dim,), name='decoder_input')\n",
        "x = Dense(shape[1] * shape[2] * shape[3])(latent_inputs)\n",
        "x = Reshape((shape[1], shape[2], shape[3]))(x)\n",
        "\n",
        "x = Conv2DTranspose(filters=64, kernel_size=3, activation='relu', padding='same')(x)\n",
        "x = BatchNormalization()(x)\n",
        "x = Conv2DTranspose(filters=64, kernel_size=3, activation='relu', padding='same')(x)\n",
        "x = BatchNormalization()(x)\n",
        "x = UpSampling2D()(x)\n",
        "\n",
        "x = Conv2DTranspose(filters=32, kernel_size=3, activation='relu', padding='same')(x)\n",
        "x = BatchNormalization()(x)\n",
        "x = Conv2DTranspose(filters=32, kernel_size=3, activation='relu', padding='same')(x)\n",
        "x = BatchNormalization()(x)\n",
        "x = UpSampling2D()(x)\n",
        "\n",
        "x = Conv2DTranspose(filters=1, kernel_size=3, padding='same')(x)\n",
        "\n",
        "outputs = Activation('sigmoid', name='decoder_output')(x)\n",
        "\n",
        "# The decoder model takes in the latent layer and outputs the sigmoid layer.\n",
        "decoder = Model(latent_inputs, outputs, name='decoder')\n",
        "decoder.summary()"
      ],
      "execution_count": 4,
      "outputs": [
        {
          "output_type": "stream",
          "text": [
            "Model: \"decoder\"\n",
            "_________________________________________________________________\n",
            "Layer (type)                 Output Shape              Param #   \n",
            "=================================================================\n",
            "decoder_input (InputLayer)   [(None, 2)]               0         \n",
            "_________________________________________________________________\n",
            "dense (Dense)                (None, 3136)              9408      \n",
            "_________________________________________________________________\n",
            "reshape (Reshape)            (None, 7, 7, 64)          0         \n",
            "_________________________________________________________________\n",
            "conv2d_transpose (Conv2DTran (None, 7, 7, 64)          36928     \n",
            "_________________________________________________________________\n",
            "batch_normalization_4 (Batch (None, 7, 7, 64)          256       \n",
            "_________________________________________________________________\n",
            "conv2d_transpose_1 (Conv2DTr (None, 7, 7, 64)          36928     \n",
            "_________________________________________________________________\n",
            "batch_normalization_5 (Batch (None, 7, 7, 64)          256       \n",
            "_________________________________________________________________\n",
            "up_sampling2d (UpSampling2D) (None, 14, 14, 64)        0         \n",
            "_________________________________________________________________\n",
            "conv2d_transpose_2 (Conv2DTr (None, 14, 14, 32)        18464     \n",
            "_________________________________________________________________\n",
            "batch_normalization_6 (Batch (None, 14, 14, 32)        128       \n",
            "_________________________________________________________________\n",
            "conv2d_transpose_3 (Conv2DTr (None, 14, 14, 32)        9248      \n",
            "_________________________________________________________________\n",
            "batch_normalization_7 (Batch (None, 14, 14, 32)        128       \n",
            "_________________________________________________________________\n",
            "up_sampling2d_1 (UpSampling2 (None, 28, 28, 32)        0         \n",
            "_________________________________________________________________\n",
            "conv2d_transpose_4 (Conv2DTr (None, 28, 28, 1)         289       \n",
            "_________________________________________________________________\n",
            "decoder_output (Activation)  (None, 28, 28, 1)         0         \n",
            "=================================================================\n",
            "Total params: 112,033\n",
            "Trainable params: 111,649\n",
            "Non-trainable params: 384\n",
            "_________________________________________________________________\n"
          ],
          "name": "stdout"
        }
      ]
    },
    {
      "cell_type": "markdown",
      "metadata": {
        "id": "5xlLV6L2od1g"
      },
      "source": [
        "### Classifier model"
      ]
    },
    {
      "cell_type": "markdown",
      "metadata": {
        "id": "Ut_LX1ZoQ0d6"
      },
      "source": [
        "![Neural Network](https://storage.googleapis.com/activation-function/images/jupyter/ae-classifier.svg)\n",
        "\n",
        "<b>Figure 1.</b> Architecture of autoencoder as an image classifier"
      ]
    },
    {
      "cell_type": "code",
      "metadata": {
        "id": "QkcrRUDbNsjL",
        "colab": {
          "base_uri": "https://localhost:8080/"
        },
        "outputId": "34c4b8ae-e73c-4d5f-9467-e257f300af13"
      },
      "source": [
        "# Classifier model\n",
        "latent_inputs = Input(shape=(latent_dim,), name='classifier_input')\n",
        "x = Dense(512)(latent_inputs)\n",
        "x = Activation('relu')(x)\n",
        "x = Dropout(0.4)(x)\n",
        "x = Dense(256)(x)\n",
        "x = Activation('relu')(x)\n",
        "x = Dropout(0.4)(x)\n",
        "x = Dense(10)(x)\n",
        "classifier_outputs = Activation('softmax', name='classifier_output')(x)\n",
        "classifier = Model(latent_inputs, classifier_outputs, name='classifier')\n",
        "classifier.summary()"
      ],
      "execution_count": 5,
      "outputs": [
        {
          "output_type": "stream",
          "text": [
            "Model: \"classifier\"\n",
            "_________________________________________________________________\n",
            "Layer (type)                 Output Shape              Param #   \n",
            "=================================================================\n",
            "classifier_input (InputLayer [(None, 2)]               0         \n",
            "_________________________________________________________________\n",
            "dense_1 (Dense)              (None, 512)               1536      \n",
            "_________________________________________________________________\n",
            "activation (Activation)      (None, 512)               0         \n",
            "_________________________________________________________________\n",
            "dropout (Dropout)            (None, 512)               0         \n",
            "_________________________________________________________________\n",
            "dense_2 (Dense)              (None, 256)               131328    \n",
            "_________________________________________________________________\n",
            "activation_1 (Activation)    (None, 256)               0         \n",
            "_________________________________________________________________\n",
            "dropout_1 (Dropout)          (None, 256)               0         \n",
            "_________________________________________________________________\n",
            "dense_3 (Dense)              (None, 10)                2570      \n",
            "_________________________________________________________________\n",
            "classifier_output (Activatio (None, 10)                0         \n",
            "=================================================================\n",
            "Total params: 135,434\n",
            "Trainable params: 135,434\n",
            "Non-trainable params: 0\n",
            "_________________________________________________________________\n"
          ],
          "name": "stdout"
        }
      ]
    },
    {
      "cell_type": "markdown",
      "metadata": {
        "id": "XKhopIPub1aj"
      },
      "source": [
        "We'll now put together a siamese network that outputs two things, a classifier and a decoder. They both take in the encoder model as input, but the layers that they add to the encoder are different. The classifier model adds dense layers and a final softmax layer, while the decoder model adds convolutional layers that are mirror opposite of the encoder convolutional layers."
      ]
    },
    {
      "cell_type": "code",
      "metadata": {
        "colab": {
          "base_uri": "https://localhost:8080/",
          "height": 601
        },
        "id": "3cw7Oytcby0A",
        "outputId": "3e669334-b19c-4b16-870a-11c9fcc827bc"
      },
      "source": [
        "autoencoder = Model(inputs,\n",
        "                    [classifier(encoder(inputs)), decoder(encoder(inputs))],\n",
        "                    name='autodecoder')\n",
        "autoencoder.summary()\n",
        "plot_model(autoencoder, to_file='classifier-autoencoder.png', show_shapes=True)"
      ],
      "execution_count": 6,
      "outputs": [
        {
          "output_type": "stream",
          "text": [
            "Model: \"autodecoder\"\n",
            "__________________________________________________________________________________________________\n",
            "Layer (type)                    Output Shape         Param #     Connected to                     \n",
            "==================================================================================================\n",
            "encoder_input (InputLayer)      [(None, 28, 28, 1)]  0                                            \n",
            "__________________________________________________________________________________________________\n",
            "encoder (Functional)            (None, 2)            72034       encoder_input[0][0]              \n",
            "                                                                 encoder_input[0][0]              \n",
            "__________________________________________________________________________________________________\n",
            "classifier (Functional)         (None, 10)           135434      encoder[0][0]                    \n",
            "__________________________________________________________________________________________________\n",
            "decoder (Functional)            (None, 28, 28, 1)    112033      encoder[1][0]                    \n",
            "==================================================================================================\n",
            "Total params: 319,501\n",
            "Trainable params: 318,733\n",
            "Non-trainable params: 768\n",
            "__________________________________________________________________________________________________\n"
          ],
          "name": "stdout"
        },
        {
          "output_type": "execute_result",
          "data": {
            "image/png": "[encoded data removed]",
            "text/plain": [
              "<IPython.core.display.Image object>"
            ]
          },
          "metadata": {
            "tags": []
          },
          "execution_count": 6
        }
      ]
    },
    {
      "cell_type": "code",
      "metadata": {
        "id": "rENo1uPINwAn",
        "colab": {
          "base_uri": "https://localhost:8080/"
        },
        "outputId": "f2034e31-c965-4e90-e06a-6d69d6c51be8"
      },
      "source": [
        "# Loss function is categorical_crossentropy for the classifier.\n",
        "# Loss function is mse for the decoder.\n",
        "autoencoder.compile(loss=['categorical_crossentropy', 'mse'],\n",
        "                    optimizer='adam',\n",
        "                    metrics=['accuracy', 'mse'])\n",
        "\n",
        "# Train the autoencoder for 25 epochs.\n",
        "# y_train/y_test are the labels for the classifier output.\n",
        "# x_train/x_test are the labels for the decoder output.\n",
        "autoencoder.fit(x_train, [y_train, x_train],                \n",
        "                validation_data=(x_test, [y_test, x_test]),\n",
        "                epochs=25, batch_size=128)"
      ],
      "execution_count": 7,
      "outputs": [
        {
          "output_type": "stream",
          "text": [
            "Epoch 1/25\n",
            "469/469 [==============================] - 7s 14ms/step - loss: 0.5986 - classifier_loss: 0.5299 - decoder_loss: 0.0687 - classifier_accuracy: 0.8098 - classifier_mse: 0.0258 - decoder_accuracy: 0.7822 - decoder_mse: 0.0687 - val_loss: 0.3499 - val_classifier_loss: 0.2939 - val_decoder_loss: 0.0560 - val_classifier_accuracy: 0.9034 - val_classifier_mse: 0.0142 - val_decoder_accuracy: 0.8000 - val_decoder_mse: 0.0560\n",
            "Epoch 2/25\n",
            "469/469 [==============================] - 6s 13ms/step - loss: 0.2815 - classifier_loss: 0.2279 - decoder_loss: 0.0536 - classifier_accuracy: 0.9287 - classifier_mse: 0.0107 - decoder_accuracy: 0.7951 - decoder_mse: 0.0536 - val_loss: 0.2238 - val_classifier_loss: 0.1714 - val_decoder_loss: 0.0524 - val_classifier_accuracy: 0.9446 - val_classifier_mse: 0.0080 - val_decoder_accuracy: 0.7962 - val_decoder_mse: 0.0524\n",
            "Epoch 3/25\n",
            "469/469 [==============================] - 6s 13ms/step - loss: 0.2318 - classifier_loss: 0.1787 - decoder_loss: 0.0531 - classifier_accuracy: 0.9446 - classifier_mse: 0.0083 - decoder_accuracy: 0.7952 - decoder_mse: 0.0531 - val_loss: 0.2057 - val_classifier_loss: 0.1494 - val_decoder_loss: 0.0564 - val_classifier_accuracy: 0.9506 - val_classifier_mse: 0.0072 - val_decoder_accuracy: 0.7907 - val_decoder_mse: 0.0564\n",
            "Epoch 4/25\n",
            "469/469 [==============================] - 6s 13ms/step - loss: 0.2003 - classifier_loss: 0.1478 - decoder_loss: 0.0525 - classifier_accuracy: 0.9535 - classifier_mse: 0.0069 - decoder_accuracy: 0.7954 - decoder_mse: 0.0525 - val_loss: 0.2005 - val_classifier_loss: 0.1487 - val_decoder_loss: 0.0518 - val_classifier_accuracy: 0.9542 - val_classifier_mse: 0.0068 - val_decoder_accuracy: 0.7941 - val_decoder_mse: 0.0518\n",
            "Epoch 5/25\n",
            "469/469 [==============================] - 6s 13ms/step - loss: 0.1828 - classifier_loss: 0.1307 - decoder_loss: 0.0521 - classifier_accuracy: 0.9593 - classifier_mse: 0.0061 - decoder_accuracy: 0.7954 - decoder_mse: 0.0521 - val_loss: 0.1722 - val_classifier_loss: 0.1205 - val_decoder_loss: 0.0516 - val_classifier_accuracy: 0.9635 - val_classifier_mse: 0.0054 - val_decoder_accuracy: 0.7934 - val_decoder_mse: 0.0516\n",
            "Epoch 6/25\n",
            "469/469 [==============================] - 6s 13ms/step - loss: 0.1691 - classifier_loss: 0.1172 - decoder_loss: 0.0519 - classifier_accuracy: 0.9633 - classifier_mse: 0.0054 - decoder_accuracy: 0.7954 - decoder_mse: 0.0519 - val_loss: 0.1698 - val_classifier_loss: 0.1182 - val_decoder_loss: 0.0516 - val_classifier_accuracy: 0.9628 - val_classifier_mse: 0.0055 - val_decoder_accuracy: 0.7952 - val_decoder_mse: 0.0516\n",
            "Epoch 7/25\n",
            "469/469 [==============================] - 6s 13ms/step - loss: 0.1540 - classifier_loss: 0.1021 - decoder_loss: 0.0519 - classifier_accuracy: 0.9693 - classifier_mse: 0.0047 - decoder_accuracy: 0.7954 - decoder_mse: 0.0519 - val_loss: 0.1678 - val_classifier_loss: 0.1164 - val_decoder_loss: 0.0514 - val_classifier_accuracy: 0.9649 - val_classifier_mse: 0.0052 - val_decoder_accuracy: 0.7941 - val_decoder_mse: 0.0514\n",
            "Epoch 8/25\n",
            "469/469 [==============================] - 6s 13ms/step - loss: 0.1477 - classifier_loss: 0.0960 - decoder_loss: 0.0517 - classifier_accuracy: 0.9710 - classifier_mse: 0.0044 - decoder_accuracy: 0.7954 - decoder_mse: 0.0517 - val_loss: 0.1893 - val_classifier_loss: 0.1373 - val_decoder_loss: 0.0520 - val_classifier_accuracy: 0.9575 - val_classifier_mse: 0.0064 - val_decoder_accuracy: 0.7934 - val_decoder_mse: 0.0520\n",
            "Epoch 9/25\n",
            "469/469 [==============================] - 6s 13ms/step - loss: 0.1394 - classifier_loss: 0.0877 - decoder_loss: 0.0517 - classifier_accuracy: 0.9732 - classifier_mse: 0.0040 - decoder_accuracy: 0.7954 - decoder_mse: 0.0517 - val_loss: 0.1974 - val_classifier_loss: 0.1462 - val_decoder_loss: 0.0512 - val_classifier_accuracy: 0.9526 - val_classifier_mse: 0.0072 - val_decoder_accuracy: 0.7935 - val_decoder_mse: 0.0512\n",
            "Epoch 10/25\n",
            "469/469 [==============================] - 6s 13ms/step - loss: 0.1339 - classifier_loss: 0.0823 - decoder_loss: 0.0516 - classifier_accuracy: 0.9759 - classifier_mse: 0.0037 - decoder_accuracy: 0.7952 - decoder_mse: 0.0516 - val_loss: 0.1777 - val_classifier_loss: 0.1261 - val_decoder_loss: 0.0516 - val_classifier_accuracy: 0.9645 - val_classifier_mse: 0.0054 - val_decoder_accuracy: 0.7914 - val_decoder_mse: 0.0516\n",
            "Epoch 11/25\n",
            "469/469 [==============================] - 6s 13ms/step - loss: 0.1265 - classifier_loss: 0.0748 - decoder_loss: 0.0517 - classifier_accuracy: 0.9773 - classifier_mse: 0.0035 - decoder_accuracy: 0.7952 - decoder_mse: 0.0517 - val_loss: 0.1619 - val_classifier_loss: 0.1105 - val_decoder_loss: 0.0514 - val_classifier_accuracy: 0.9696 - val_classifier_mse: 0.0047 - val_decoder_accuracy: 0.7937 - val_decoder_mse: 0.0514\n",
            "Epoch 12/25\n",
            "469/469 [==============================] - 6s 14ms/step - loss: 0.1249 - classifier_loss: 0.0733 - decoder_loss: 0.0516 - classifier_accuracy: 0.9778 - classifier_mse: 0.0034 - decoder_accuracy: 0.7952 - decoder_mse: 0.0516 - val_loss: 0.1677 - val_classifier_loss: 0.1167 - val_decoder_loss: 0.0510 - val_classifier_accuracy: 0.9702 - val_classifier_mse: 0.0046 - val_decoder_accuracy: 0.7958 - val_decoder_mse: 0.0510\n",
            "Epoch 13/25\n",
            "469/469 [==============================] - 6s 13ms/step - loss: 0.1180 - classifier_loss: 0.0665 - decoder_loss: 0.0515 - classifier_accuracy: 0.9802 - classifier_mse: 0.0030 - decoder_accuracy: 0.7953 - decoder_mse: 0.0515 - val_loss: 0.1642 - val_classifier_loss: 0.1131 - val_decoder_loss: 0.0511 - val_classifier_accuracy: 0.9699 - val_classifier_mse: 0.0047 - val_decoder_accuracy: 0.7919 - val_decoder_mse: 0.0511\n",
            "Epoch 14/25\n",
            "469/469 [==============================] - 6s 13ms/step - loss: 0.1108 - classifier_loss: 0.0596 - decoder_loss: 0.0513 - classifier_accuracy: 0.9828 - classifier_mse: 0.0027 - decoder_accuracy: 0.7953 - decoder_mse: 0.0513 - val_loss: 0.1536 - val_classifier_loss: 0.1031 - val_decoder_loss: 0.0505 - val_classifier_accuracy: 0.9751 - val_classifier_mse: 0.0041 - val_decoder_accuracy: 0.7920 - val_decoder_mse: 0.0505\n",
            "Epoch 15/25\n",
            "469/469 [==============================] - 6s 13ms/step - loss: 0.1086 - classifier_loss: 0.0576 - decoder_loss: 0.0511 - classifier_accuracy: 0.9833 - classifier_mse: 0.0026 - decoder_accuracy: 0.7953 - decoder_mse: 0.0511 - val_loss: 0.1705 - val_classifier_loss: 0.1191 - val_decoder_loss: 0.0514 - val_classifier_accuracy: 0.9724 - val_classifier_mse: 0.0046 - val_decoder_accuracy: 0.7945 - val_decoder_mse: 0.0514\n",
            "Epoch 16/25\n",
            "469/469 [==============================] - 6s 13ms/step - loss: 0.1054 - classifier_loss: 0.0543 - decoder_loss: 0.0511 - classifier_accuracy: 0.9846 - classifier_mse: 0.0025 - decoder_accuracy: 0.7952 - decoder_mse: 0.0511 - val_loss: 0.1534 - val_classifier_loss: 0.1026 - val_decoder_loss: 0.0508 - val_classifier_accuracy: 0.9739 - val_classifier_mse: 0.0041 - val_decoder_accuracy: 0.7940 - val_decoder_mse: 0.0508\n",
            "Epoch 17/25\n",
            "469/469 [==============================] - 6s 14ms/step - loss: 0.1072 - classifier_loss: 0.0563 - decoder_loss: 0.0509 - classifier_accuracy: 0.9839 - classifier_mse: 0.0025 - decoder_accuracy: 0.7954 - decoder_mse: 0.0509 - val_loss: 0.1545 - val_classifier_loss: 0.1042 - val_decoder_loss: 0.0502 - val_classifier_accuracy: 0.9760 - val_classifier_mse: 0.0039 - val_decoder_accuracy: 0.7927 - val_decoder_mse: 0.0502\n",
            "Epoch 18/25\n",
            "469/469 [==============================] - 6s 14ms/step - loss: 0.1021 - classifier_loss: 0.0513 - decoder_loss: 0.0508 - classifier_accuracy: 0.9855 - classifier_mse: 0.0023 - decoder_accuracy: 0.7952 - decoder_mse: 0.0508 - val_loss: 0.1705 - val_classifier_loss: 0.1195 - val_decoder_loss: 0.0510 - val_classifier_accuracy: 0.9707 - val_classifier_mse: 0.0046 - val_decoder_accuracy: 0.7938 - val_decoder_mse: 0.0510\n",
            "Epoch 19/25\n",
            "469/469 [==============================] - 6s 13ms/step - loss: 0.0998 - classifier_loss: 0.0493 - decoder_loss: 0.0506 - classifier_accuracy: 0.9863 - classifier_mse: 0.0022 - decoder_accuracy: 0.7954 - decoder_mse: 0.0506 - val_loss: 0.1624 - val_classifier_loss: 0.1118 - val_decoder_loss: 0.0506 - val_classifier_accuracy: 0.9705 - val_classifier_mse: 0.0044 - val_decoder_accuracy: 0.7942 - val_decoder_mse: 0.0506\n",
            "Epoch 20/25\n",
            "469/469 [==============================] - 6s 13ms/step - loss: 0.0942 - classifier_loss: 0.0434 - decoder_loss: 0.0507 - classifier_accuracy: 0.9878 - classifier_mse: 0.0019 - decoder_accuracy: 0.7952 - decoder_mse: 0.0507 - val_loss: 0.1535 - val_classifier_loss: 0.1029 - val_decoder_loss: 0.0505 - val_classifier_accuracy: 0.9776 - val_classifier_mse: 0.0037 - val_decoder_accuracy: 0.7931 - val_decoder_mse: 0.0505\n",
            "Epoch 21/25\n",
            "469/469 [==============================] - 6s 14ms/step - loss: 0.0940 - classifier_loss: 0.0433 - decoder_loss: 0.0506 - classifier_accuracy: 0.9877 - classifier_mse: 0.0019 - decoder_accuracy: 0.7953 - decoder_mse: 0.0506 - val_loss: 0.1477 - val_classifier_loss: 0.0976 - val_decoder_loss: 0.0501 - val_classifier_accuracy: 0.9757 - val_classifier_mse: 0.0037 - val_decoder_accuracy: 0.7960 - val_decoder_mse: 0.0501\n",
            "Epoch 22/25\n",
            "469/469 [==============================] - 6s 14ms/step - loss: 0.0894 - classifier_loss: 0.0390 - decoder_loss: 0.0504 - classifier_accuracy: 0.9897 - classifier_mse: 0.0016 - decoder_accuracy: 0.7955 - decoder_mse: 0.0504 - val_loss: 0.1654 - val_classifier_loss: 0.1155 - val_decoder_loss: 0.0499 - val_classifier_accuracy: 0.9742 - val_classifier_mse: 0.0042 - val_decoder_accuracy: 0.7944 - val_decoder_mse: 0.0499\n",
            "Epoch 23/25\n",
            "469/469 [==============================] - 7s 14ms/step - loss: 0.0900 - classifier_loss: 0.0394 - decoder_loss: 0.0506 - classifier_accuracy: 0.9886 - classifier_mse: 0.0018 - decoder_accuracy: 0.7953 - decoder_mse: 0.0506 - val_loss: 0.1480 - val_classifier_loss: 0.0983 - val_decoder_loss: 0.0498 - val_classifier_accuracy: 0.9770 - val_classifier_mse: 0.0037 - val_decoder_accuracy: 0.7932 - val_decoder_mse: 0.0498\n",
            "Epoch 24/25\n",
            "469/469 [==============================] - 6s 13ms/step - loss: 0.0882 - classifier_loss: 0.0377 - decoder_loss: 0.0505 - classifier_accuracy: 0.9894 - classifier_mse: 0.0016 - decoder_accuracy: 0.7953 - decoder_mse: 0.0505 - val_loss: 0.1812 - val_classifier_loss: 0.1304 - val_decoder_loss: 0.0508 - val_classifier_accuracy: 0.9703 - val_classifier_mse: 0.0048 - val_decoder_accuracy: 0.7939 - val_decoder_mse: 0.0508\n",
            "Epoch 25/25\n",
            "469/469 [==============================] - 6s 13ms/step - loss: 0.0900 - classifier_loss: 0.0392 - decoder_loss: 0.0507 - classifier_accuracy: 0.9890 - classifier_mse: 0.0017 - decoder_accuracy: 0.7954 - decoder_mse: 0.0507 - val_loss: 0.1595 - val_classifier_loss: 0.1091 - val_decoder_loss: 0.0504 - val_classifier_accuracy: 0.9769 - val_classifier_mse: 0.0037 - val_decoder_accuracy: 0.7934 - val_decoder_mse: 0.0504\n"
          ],
          "name": "stdout"
        },
        {
          "output_type": "execute_result",
          "data": {
            "text/plain": [
              "<tensorflow.python.keras.callbacks.History at 0x7ff068e78eb8>"
            ]
          },
          "metadata": {
            "tags": []
          },
          "execution_count": 7
        }
      ]
    },
    {
      "cell_type": "markdown",
      "metadata": {
        "id": "dFfR0-IKa2yO"
      },
      "source": [
        "Get predictions from the autoencoder siamese network. y_hat is the prediction set of the classifier. x_decoded is the prediction set of the classifier."
      ]
    },
    {
      "cell_type": "code",
      "metadata": {
        "id": "s9NVz2SjNzAB",
        "colab": {
          "base_uri": "https://localhost:8080/"
        },
        "outputId": "d5b718e9-f158-4fc3-e580-08c81ba800ef"
      },
      "source": [
        "y_hat, x_decoded = autoencoder.predict(x_test)\n",
        "print('y_test:', np.argmax(y_test[:8], axis=1))\n",
        "print('y_hat: ', np.argmax(y_hat[:8], axis=1))"
      ],
      "execution_count": 8,
      "outputs": [
        {
          "output_type": "stream",
          "text": [
            "y_test: [7 2 1 0 4 1 4 9]\n",
            "y_hat:  [7 2 1 0 4 1 4 9]\n"
          ],
          "name": "stdout"
        }
      ]
    },
    {
      "cell_type": "markdown",
      "metadata": {
        "id": "ktlPnClgXbHa"
      },
      "source": [
        "8 out of 8 correct predictions. Very nice."
      ]
    },
    {
      "cell_type": "code",
      "metadata": {
        "id": "8dknjI0cNzKK",
        "colab": {
          "base_uri": "https://localhost:8080/",
          "height": 264
        },
        "outputId": "344706bf-a3e2-4fa3-f544-766ba21cee19"
      },
      "source": [
        "# Display the 1st 8 input and decoded images.\n",
        "imgs = np.concatenate([x_test[:8], x_decoded[:8]])\n",
        "imgs = imgs.reshape((4, 4, 28, 28))\n",
        "imgs = np.vstack([np.hstack(i) for i in imgs])\n",
        "plt.figure()\n",
        "plt.axis('off')\n",
        "plt.title('Input: 1st 2 rows, Decoded: last 2 rows')\n",
        "plt.imshow(imgs, interpolation='none', cmap='gray')\n",
        "plt.savefig('input_and_decoded.png')\n",
        "plt.show()"
      ],
      "execution_count": 9,
      "outputs": [
        {
          "output_type": "display_data",
          "data": {
            "image/png": "[encoded data removed]",
            "text/plain": [
              "<Figure size 432x288 with 1 Axes>"
            ]
          },
          "metadata": {
            "tags": [],
            "needs_background": "light"
          }
        }
      ]
    },
    {
      "cell_type": "markdown",
      "metadata": {
        "id": "2T1Cd8Gwadfu"
      },
      "source": [
        "The decoder outputted images that are very blurry. This is because the latent dimension was super condensed to 2 dimensions in order to later on visualize and cluster the digits. To compensate for this horrific bottleneck layer, the epoch on the fit above had to be moved up to 25. If visualization was not needed, the latent dimension could be changed to 16, and the training will go much faster, and the decoding will be much more accurate. Nevertheless, the ability of the autoencoder model to classify the digits is unaffected."
      ]
    },
    {
      "cell_type": "code",
      "metadata": {
        "colab": {
          "base_uri": "https://localhost:8080/"
        },
        "id": "AVZIm4lFw6el",
        "outputId": "2b2e1494-04be-40b8-d19c-cdfe3836f31e"
      },
      "source": [
        "latent = encoder.predict(x_test)\n",
        "print(latent.shape)\n",
        "print(latent[0])"
      ],
      "execution_count": 10,
      "outputs": [
        {
          "output_type": "stream",
          "text": [
            "(10000, 2)\n",
            "[ 12.831709 -35.2628  ]\n"
          ],
          "name": "stdout"
        }
      ]
    },
    {
      "cell_type": "markdown",
      "metadata": {
        "id": "CFrwUM2xm3B1"
      },
      "source": [
        "### Visualize the digit clusters"
      ]
    },
    {
      "cell_type": "code",
      "metadata": {
        "colab": {
          "base_uri": "https://localhost:8080/",
          "height": 286
        },
        "id": "r0Vg06Zse8RS",
        "outputId": "07382567-e429-41a8-ac61-fc269119b985"
      },
      "source": [
        "fig, ax = plt.subplots(1, 2)\n",
        "ax[0].scatter(latent[:,0], latent[:,1],\n",
        "\tc=np.argmax(y_test, axis=1), s=8, cmap='tab10')"
      ],
      "execution_count": 11,
      "outputs": [
        {
          "output_type": "execute_result",
          "data": {
            "text/plain": [
              "<matplotlib.collections.PathCollection at 0x7ff01e9c1b70>"
            ]
          },
          "metadata": {
            "tags": []
          },
          "execution_count": 11
        },
        {
          "output_type": "display_data",
          "data": {
            "image/png": "[encoded data removed]",
            "text/plain": [
              "<Figure size 432x288 with 2 Axes>"
            ]
          },
          "metadata": {
            "tags": [],
            "needs_background": "light"
          }
        }
      ]
    },
    {
      "cell_type": "markdown",
      "metadata": {
        "id": "4jOiKjrymvpO"
      },
      "source": [
        "# Use K-means to cluster the feature vectors"
      ]
    },
    {
      "cell_type": "code",
      "metadata": {
        "colab": {
          "base_uri": "https://localhost:8080/",
          "height": 265
        },
        "id": "3H49KPuBl4Rb",
        "outputId": "1b6ccd86-3da9-4e56-ea64-057ef9ba7702"
      },
      "source": [
        "from sklearn.cluster import KMeans\n",
        "\n",
        "kmeans = KMeans(n_clusters=10, init='k-means++', max_iter=300, n_init=10, random_state=0)\n",
        "pred_y = kmeans.fit_predict(latent)\n",
        "plt.scatter(latent[:,0], latent[:,1])\n",
        "plt.scatter(kmeans.cluster_centers_[:, 0], kmeans.cluster_centers_[:, 1], s=300, c='red')\n",
        "plt.show()"
      ],
      "execution_count": 12,
      "outputs": [
        {
          "output_type": "display_data",
          "data": {
            "image/png": "[encoded data removed]",
            "text/plain": [
              "<Figure size 432x288 with 1 Axes>"
            ]
          },
          "metadata": {
            "tags": [],
            "needs_background": "light"
          }
        }
      ]
    }
  ]
}
