{
  "nbformat": 4,
  "nbformat_minor": 0,
  "metadata": {
    "colab": {
      "name": "autoencoder_mnist_digit_classifier.ipynb",
      "provenance": [],
      "collapsed_sections": [],
      "toc_visible": true
    },
    "kernelspec": {
      "name": "python3",
      "display_name": "Python 3"
    },
    "accelerator": "GPU"
  },
  "cells": [
    {
      "cell_type": "code",
      "metadata": {
        "id": "RExYxzLRNSUv"
      },
      "source": [
        "from matplotlib import pyplot as plt\n",
        "import numpy as np\n",
        "import gzip\n",
        "%matplotlib inline\n",
        "import tensorflow as tf\n",
        "from tensorflow.keras.models import Model\n",
        "from tensorflow.keras.optimizers import RMSprop\n",
        "from tensorflow.keras.layers import Input,Dense,Flatten,Dropout,Reshape,Conv2D,MaxPooling2D,UpSampling2D,Conv2DTranspose\n",
        "from tensorflow.keras.layers import BatchNormalization\n",
        "from tensorflow.keras.models import Model,Sequential\n",
        "from tensorflow.keras.callbacks import ModelCheckpoint\n",
        "from tensorflow.keras.optimizers import Adadelta, RMSprop,SGD,Adam\n",
        "from tensorflow.keras import regularizers\n",
        "from tensorflow.keras import backend as K\n",
        "from tensorflow.keras.utils import to_categorical"
      ],
      "execution_count": 15,
      "outputs": []
    },
    {
      "cell_type": "code",
      "metadata": {
        "id": "rlriCs3sTJH4"
      },
      "source": [
        "(train_data, train_labels), (test_data, test_labels) = tf.keras.datasets.mnist.load_data()"
      ],
      "execution_count": 16,
      "outputs": []
    },
    {
      "cell_type": "code",
      "metadata": {
        "colab": {
          "base_uri": "https://localhost:8080/",
          "height": 208
        },
        "id": "mw6ri0UYUahw",
        "outputId": "4da6c8ca-9951-4950-a605-be427d8825b8"
      },
      "source": [
        "plt.figure(figsize=[5,5])\n",
        "\n",
        "# Display the first image in training data\n",
        "plt.subplot(121)\n",
        "curr_img = np.reshape(train_data[10], (28,28))\n",
        "curr_lbl = train_labels[10]\n",
        "plt.imshow(curr_img, cmap='gray')\n",
        "plt.title(\"(Label: \" + str(curr_lbl) + \")\")\n",
        "\n",
        "# Display the first image in testing data\n",
        "plt.subplot(122)\n",
        "curr_img = np.reshape(test_data[10], (28,28))\n",
        "curr_lbl = test_labels[10]\n",
        "plt.imshow(curr_img, cmap='gray')\n",
        "plt.title(\"(Label: \" + str(curr_lbl) + \")\")"
      ],
      "execution_count": 17,
      "outputs": [
        {
          "output_type": "execute_result",
          "data": {
            "text/plain": [
              "Text(0.5, 1.0, '(Label: 0)')"
            ]
          },
          "metadata": {
            "tags": []
          },
          "execution_count": 17
        },
        {
          "output_type": "display_data",
          "data": {
            "image/png": "[encoded data removed]",
            "text/plain": [
              "<Figure size 360x360 with 2 Axes>"
            ]
          },
          "metadata": {
            "tags": [],
            "needs_background": "light"
          }
        }
      ]
    },
    {
      "cell_type": "code",
      "metadata": {
        "colab": {
          "base_uri": "https://localhost:8080/"
        },
        "id": "PvTSwDwnV6FI",
        "outputId": "1ea329f6-a43d-4192-c54d-cdf6999a44db"
      },
      "source": [
        "train_data = train_data.reshape(-1, 28,28, 1)\n",
        "test_data = test_data.reshape(-1, 28,28, 1)\n",
        "train_data.shape, test_data.shape"
      ],
      "execution_count": 18,
      "outputs": [
        {
          "output_type": "execute_result",
          "data": {
            "text/plain": [
              "((60000, 28, 28, 1), (10000, 28, 28, 1))"
            ]
          },
          "metadata": {
            "tags": []
          },
          "execution_count": 18
        }
      ]
    },
    {
      "cell_type": "code",
      "metadata": {
        "id": "kj3ZSL3QWQMr"
      },
      "source": [
        "# Scale the data so that all values are in the [0, 1] interval.\n",
        "train_data = train_data / 255\n",
        "test_data = test_data / 255"
      ],
      "execution_count": 19,
      "outputs": []
    },
    {
      "cell_type": "code",
      "metadata": {
        "id": "QjWbu36bWQ2x"
      },
      "source": [
        "from sklearn.model_selection import train_test_split\n",
        "train_X,valid_X,train_ground,valid_ground = train_test_split(train_data,\n",
        "                                                             train_data,\n",
        "                                                             test_size=0.2,\n",
        "                                                             random_state=13)"
      ],
      "execution_count": 20,
      "outputs": []
    },
    {
      "cell_type": "code",
      "metadata": {
        "id": "csncgFU0WU5R"
      },
      "source": [
        "batch_size = 64\n",
        "epochs = 200\n",
        "inChannel = 1\n",
        "x, y = 28, 28\n",
        "input_img = Input(shape = (x, y, inChannel))\n",
        "num_classes = 10"
      ],
      "execution_count": 21,
      "outputs": []
    },
    {
      "cell_type": "code",
      "metadata": {
        "id": "foDv1tsRWXrh"
      },
      "source": [
        "def encoder(input_img):\n",
        "    #encoder\n",
        "    #input = 28 x 28 x 1 (wide and thin)\n",
        "    conv1 = Conv2D(32, (3, 3), activation='relu', padding='same')(input_img) #28 x 28 x 32\n",
        "    conv1 = BatchNormalization()(conv1)\n",
        "    conv1 = Conv2D(32, (3, 3), activation='relu', padding='same')(conv1)\n",
        "    conv1 = BatchNormalization()(conv1)\n",
        "    pool1 = MaxPooling2D(pool_size=(2, 2))(conv1) #14 x 14 x 32\n",
        "    conv2 = Conv2D(64, (3, 3), activation='relu', padding='same')(pool1) #14 x 14 x 64\n",
        "    conv2 = BatchNormalization()(conv2)\n",
        "    conv2 = Conv2D(64, (3, 3), activation='relu', padding='same')(conv2)\n",
        "    conv2 = BatchNormalization()(conv2)\n",
        "    pool2 = MaxPooling2D(pool_size=(2, 2))(conv2) #7 x 7 x 64\n",
        "    conv3 = Conv2D(128, (3, 3), activation='relu', padding='same')(pool2) #7 x 7 x 128 (small and thick)\n",
        "    conv3 = BatchNormalization()(conv3)\n",
        "    conv3 = Conv2D(128, (3, 3), activation='relu', padding='same')(conv3)\n",
        "    conv3 = BatchNormalization()(conv3)\n",
        "    conv4 = Conv2D(256, (3, 3), activation='relu', padding='same')(conv3) #7 x 7 x 256 (small and thick)\n",
        "    conv4 = BatchNormalization()(conv4)\n",
        "    conv4 = Conv2D(256, (3, 3), activation='relu', padding='same')(conv4)\n",
        "    conv4 = BatchNormalization()(conv4)\n",
        "    return conv4\n",
        "\n",
        "def decoder(conv4):    \n",
        "    #decoder\n",
        "    conv5 = Conv2D(128, (3, 3), activation='relu', padding='same')(conv4) #7 x 7 x 128\n",
        "    conv5 = BatchNormalization()(conv5)\n",
        "    conv5 = Conv2D(128, (3, 3), activation='relu', padding='same')(conv5)\n",
        "    conv5 = BatchNormalization()(conv5)\n",
        "    conv6 = Conv2D(64, (3, 3), activation='relu', padding='same')(conv5) #7 x 7 x 64\n",
        "    conv6 = BatchNormalization()(conv6)\n",
        "    conv6 = Conv2D(64, (3, 3), activation='relu', padding='same')(conv6)\n",
        "    conv6 = BatchNormalization()(conv6)\n",
        "    up1 = UpSampling2D((2,2))(conv6) #14 x 14 x 64\n",
        "    conv7 = Conv2D(32, (3, 3), activation='relu', padding='same')(up1) # 14 x 14 x 32\n",
        "    conv7 = BatchNormalization()(conv7)\n",
        "    conv7 = Conv2D(32, (3, 3), activation='relu', padding='same')(conv7)\n",
        "    conv7 = BatchNormalization()(conv7)\n",
        "    up2 = UpSampling2D((2,2))(conv7) # 28 x 28 x 32\n",
        "    decoded = Conv2D(1, (3, 3), activation='sigmoid', padding='same')(up2) # 28 x 28 x 1\n",
        "    return decoded"
      ],
      "execution_count": 22,
      "outputs": []
    },
    {
      "cell_type": "code",
      "metadata": {
        "id": "0gX26toQWhwb"
      },
      "source": [
        "autoencoder = Model(input_img, decoder(encoder(input_img)))\n",
        "autoencoder.compile(loss='mean_squared_error', optimizer = RMSprop())"
      ],
      "execution_count": 23,
      "outputs": []
    },
    {
      "cell_type": "code",
      "metadata": {
        "colab": {
          "base_uri": "https://localhost:8080/"
        },
        "id": "X48gbW2KWiLx",
        "outputId": "07fd18d6-4454-4cf9-f68c-a667e178c9f5"
      },
      "source": [
        "autoencoder.summary()"
      ],
      "execution_count": 24,
      "outputs": [
        {
          "output_type": "stream",
          "text": [
            "Model: \"functional_3\"\n",
            "_________________________________________________________________\n",
            "Layer (type)                 Output Shape              Param #   \n",
            "=================================================================\n",
            "input_2 (InputLayer)         [(None, 28, 28, 1)]       0         \n",
            "_________________________________________________________________\n",
            "conv2d_15 (Conv2D)           (None, 28, 28, 32)        320       \n",
            "_________________________________________________________________\n",
            "batch_normalization_14 (Batc (None, 28, 28, 32)        128       \n",
            "_________________________________________________________________\n",
            "conv2d_16 (Conv2D)           (None, 28, 28, 32)        9248      \n",
            "_________________________________________________________________\n",
            "batch_normalization_15 (Batc (None, 28, 28, 32)        128       \n",
            "_________________________________________________________________\n",
            "max_pooling2d_2 (MaxPooling2 (None, 14, 14, 32)        0         \n",
            "_________________________________________________________________\n",
            "conv2d_17 (Conv2D)           (None, 14, 14, 64)        18496     \n",
            "_________________________________________________________________\n",
            "batch_normalization_16 (Batc (None, 14, 14, 64)        256       \n",
            "_________________________________________________________________\n",
            "conv2d_18 (Conv2D)           (None, 14, 14, 64)        36928     \n",
            "_________________________________________________________________\n",
            "batch_normalization_17 (Batc (None, 14, 14, 64)        256       \n",
            "_________________________________________________________________\n",
            "max_pooling2d_3 (MaxPooling2 (None, 7, 7, 64)          0         \n",
            "_________________________________________________________________\n",
            "conv2d_19 (Conv2D)           (None, 7, 7, 128)         73856     \n",
            "_________________________________________________________________\n",
            "batch_normalization_18 (Batc (None, 7, 7, 128)         512       \n",
            "_________________________________________________________________\n",
            "conv2d_20 (Conv2D)           (None, 7, 7, 128)         147584    \n",
            "_________________________________________________________________\n",
            "batch_normalization_19 (Batc (None, 7, 7, 128)         512       \n",
            "_________________________________________________________________\n",
            "conv2d_21 (Conv2D)           (None, 7, 7, 256)         295168    \n",
            "_________________________________________________________________\n",
            "batch_normalization_20 (Batc (None, 7, 7, 256)         1024      \n",
            "_________________________________________________________________\n",
            "conv2d_22 (Conv2D)           (None, 7, 7, 256)         590080    \n",
            "_________________________________________________________________\n",
            "batch_normalization_21 (Batc (None, 7, 7, 256)         1024      \n",
            "_________________________________________________________________\n",
            "conv2d_23 (Conv2D)           (None, 7, 7, 128)         295040    \n",
            "_________________________________________________________________\n",
            "batch_normalization_22 (Batc (None, 7, 7, 128)         512       \n",
            "_________________________________________________________________\n",
            "conv2d_24 (Conv2D)           (None, 7, 7, 128)         147584    \n",
            "_________________________________________________________________\n",
            "batch_normalization_23 (Batc (None, 7, 7, 128)         512       \n",
            "_________________________________________________________________\n",
            "conv2d_25 (Conv2D)           (None, 7, 7, 64)          73792     \n",
            "_________________________________________________________________\n",
            "batch_normalization_24 (Batc (None, 7, 7, 64)          256       \n",
            "_________________________________________________________________\n",
            "conv2d_26 (Conv2D)           (None, 7, 7, 64)          36928     \n",
            "_________________________________________________________________\n",
            "batch_normalization_25 (Batc (None, 7, 7, 64)          256       \n",
            "_________________________________________________________________\n",
            "up_sampling2d_2 (UpSampling2 (None, 14, 14, 64)        0         \n",
            "_________________________________________________________________\n",
            "conv2d_27 (Conv2D)           (None, 14, 14, 32)        18464     \n",
            "_________________________________________________________________\n",
            "batch_normalization_26 (Batc (None, 14, 14, 32)        128       \n",
            "_________________________________________________________________\n",
            "conv2d_28 (Conv2D)           (None, 14, 14, 32)        9248      \n",
            "_________________________________________________________________\n",
            "batch_normalization_27 (Batc (None, 14, 14, 32)        128       \n",
            "_________________________________________________________________\n",
            "up_sampling2d_3 (UpSampling2 (None, 28, 28, 32)        0         \n",
            "_________________________________________________________________\n",
            "conv2d_29 (Conv2D)           (None, 28, 28, 1)         289       \n",
            "=================================================================\n",
            "Total params: 1,758,657\n",
            "Trainable params: 1,755,841\n",
            "Non-trainable params: 2,816\n",
            "_________________________________________________________________\n"
          ],
          "name": "stdout"
        }
      ]
    },
    {
      "cell_type": "code",
      "metadata": {
        "colab": {
          "base_uri": "https://localhost:8080/"
        },
        "id": "t3TSZInmWlEJ",
        "outputId": "ac0014aa-bd1a-4f0a-c4ee-837ff5b0fff2"
      },
      "source": [
        "autoencoder_train = autoencoder.fit(train_X, train_ground, batch_size=batch_size,epochs=epochs,verbose=1,validation_data=(valid_X, valid_ground))"
      ],
      "execution_count": 25,
      "outputs": [
        {
          "output_type": "stream",
          "text": [
            "Epoch 1/200\n",
            "750/750 [==============================] - 8s 10ms/step - loss: 0.0184 - val_loss: 0.0073\n",
            "Epoch 2/200\n",
            "750/750 [==============================] - 7s 10ms/step - loss: 0.0052 - val_loss: 0.0060\n",
            "Epoch 3/200\n",
            "750/750 [==============================] - 7s 9ms/step - loss: 0.0037 - val_loss: 0.0071\n",
            "Epoch 4/200\n",
            "750/750 [==============================] - 7s 9ms/step - loss: 0.0030 - val_loss: 0.0068\n",
            "Epoch 5/200\n",
            "750/750 [==============================] - 7s 9ms/step - loss: 0.0026 - val_loss: 0.0034\n",
            "Epoch 6/200\n",
            "750/750 [==============================] - 7s 9ms/step - loss: 0.0023 - val_loss: 0.0039\n",
            "Epoch 7/200\n",
            "750/750 [==============================] - 7s 10ms/step - loss: 0.0021 - val_loss: 0.0022\n",
            "Epoch 8/200\n",
            "750/750 [==============================] - 7s 9ms/step - loss: 0.0019 - val_loss: 0.0020\n",
            "Epoch 9/200\n",
            "750/750 [==============================] - 7s 9ms/step - loss: 0.0018 - val_loss: 0.0016\n",
            "Epoch 10/200\n",
            "750/750 [==============================] - 7s 9ms/step - loss: 0.0016 - val_loss: 0.0018\n",
            "Epoch 11/200\n",
            "750/750 [==============================] - 7s 9ms/step - loss: 0.0015 - val_loss: 0.0016\n",
            "Epoch 12/200\n",
            "750/750 [==============================] - 7s 9ms/step - loss: 0.0015 - val_loss: 0.0019\n",
            "Epoch 13/200\n",
            "750/750 [==============================] - 7s 9ms/step - loss: 0.0014 - val_loss: 0.0013\n",
            "Epoch 14/200\n",
            "750/750 [==============================] - 7s 9ms/step - loss: 0.0013 - val_loss: 0.0015\n",
            "Epoch 15/200\n",
            "750/750 [==============================] - 7s 9ms/step - loss: 0.0013 - val_loss: 0.0014\n",
            "Epoch 16/200\n",
            "750/750 [==============================] - 7s 9ms/step - loss: 0.0013 - val_loss: 0.0015\n",
            "Epoch 17/200\n",
            "750/750 [==============================] - 7s 9ms/step - loss: 0.0012 - val_loss: 0.0012\n",
            "Epoch 18/200\n",
            "750/750 [==============================] - 7s 9ms/step - loss: 0.0012 - val_loss: 0.0011\n",
            "Epoch 19/200\n",
            "750/750 [==============================] - 7s 10ms/step - loss: 0.0011 - val_loss: 0.0014\n",
            "Epoch 20/200\n",
            "750/750 [==============================] - 7s 9ms/step - loss: 0.0011 - val_loss: 0.0012\n",
            "Epoch 21/200\n",
            "750/750 [==============================] - 7s 9ms/step - loss: 0.0011 - val_loss: 0.0014\n",
            "Epoch 22/200\n",
            "750/750 [==============================] - 7s 9ms/step - loss: 0.0010 - val_loss: 0.0011\n",
            "Epoch 23/200\n",
            "750/750 [==============================] - 7s 9ms/step - loss: 0.0010 - val_loss: 0.0012\n",
            "Epoch 24/200\n",
            "750/750 [==============================] - 7s 9ms/step - loss: 0.0010 - val_loss: 0.0011\n",
            "Epoch 25/200\n",
            "750/750 [==============================] - 7s 9ms/step - loss: 9.7468e-04 - val_loss: 0.0010\n",
            "Epoch 26/200\n",
            "750/750 [==============================] - 7s 9ms/step - loss: 9.5215e-04 - val_loss: 9.5871e-04\n",
            "Epoch 27/200\n",
            "750/750 [==============================] - 7s 9ms/step - loss: 9.3428e-04 - val_loss: 0.0013\n",
            "Epoch 28/200\n",
            "750/750 [==============================] - 7s 9ms/step - loss: 9.1414e-04 - val_loss: 9.3059e-04\n",
            "Epoch 29/200\n",
            "750/750 [==============================] - 7s 9ms/step - loss: 8.9421e-04 - val_loss: 0.0011\n",
            "Epoch 30/200\n",
            "750/750 [==============================] - 7s 9ms/step - loss: 8.7796e-04 - val_loss: 9.8069e-04\n",
            "Epoch 31/200\n",
            "750/750 [==============================] - 7s 9ms/step - loss: 8.5838e-04 - val_loss: 0.0010\n",
            "Epoch 32/200\n",
            "750/750 [==============================] - 7s 9ms/step - loss: 8.4665e-04 - val_loss: 8.9394e-04\n",
            "Epoch 33/200\n",
            "750/750 [==============================] - 7s 9ms/step - loss: 8.3020e-04 - val_loss: 8.2770e-04\n",
            "Epoch 34/200\n",
            "750/750 [==============================] - 7s 9ms/step - loss: 8.1611e-04 - val_loss: 8.3203e-04\n",
            "Epoch 35/200\n",
            "750/750 [==============================] - 7s 9ms/step - loss: 8.0232e-04 - val_loss: 0.0010\n",
            "Epoch 36/200\n",
            "750/750 [==============================] - 7s 10ms/step - loss: 7.8648e-04 - val_loss: 8.5421e-04\n",
            "Epoch 37/200\n",
            "750/750 [==============================] - 7s 9ms/step - loss: 7.7480e-04 - val_loss: 8.6341e-04\n",
            "Epoch 38/200\n",
            "750/750 [==============================] - 7s 9ms/step - loss: 7.6389e-04 - val_loss: 9.1837e-04\n",
            "Epoch 39/200\n",
            "750/750 [==============================] - 7s 10ms/step - loss: 7.5089e-04 - val_loss: 8.6143e-04\n",
            "Epoch 40/200\n",
            "750/750 [==============================] - 7s 9ms/step - loss: 7.3981e-04 - val_loss: 7.5925e-04\n",
            "Epoch 41/200\n",
            "750/750 [==============================] - 7s 9ms/step - loss: 7.2683e-04 - val_loss: 7.7794e-04\n",
            "Epoch 42/200\n",
            "750/750 [==============================] - 7s 9ms/step - loss: 7.1776e-04 - val_loss: 7.2153e-04\n",
            "Epoch 43/200\n",
            "750/750 [==============================] - 7s 9ms/step - loss: 7.1089e-04 - val_loss: 9.2095e-04\n",
            "Epoch 44/200\n",
            "750/750 [==============================] - 7s 9ms/step - loss: 6.9793e-04 - val_loss: 7.7244e-04\n",
            "Epoch 45/200\n",
            "750/750 [==============================] - 7s 9ms/step - loss: 6.8500e-04 - val_loss: 8.2527e-04\n",
            "Epoch 46/200\n",
            "750/750 [==============================] - 7s 9ms/step - loss: 6.7972e-04 - val_loss: 0.0011\n",
            "Epoch 47/200\n",
            "750/750 [==============================] - 7s 9ms/step - loss: 6.6910e-04 - val_loss: 7.1506e-04\n",
            "Epoch 48/200\n",
            "750/750 [==============================] - 7s 9ms/step - loss: 6.6205e-04 - val_loss: 8.4319e-04\n",
            "Epoch 49/200\n",
            "750/750 [==============================] - 7s 9ms/step - loss: 6.5363e-04 - val_loss: 8.2800e-04\n",
            "Epoch 50/200\n",
            "750/750 [==============================] - 7s 9ms/step - loss: 6.4455e-04 - val_loss: 8.6754e-04\n",
            "Epoch 51/200\n",
            "750/750 [==============================] - 7s 10ms/step - loss: 6.3822e-04 - val_loss: 8.5325e-04\n",
            "Epoch 52/200\n",
            "750/750 [==============================] - 7s 9ms/step - loss: 6.2915e-04 - val_loss: 8.2313e-04\n",
            "Epoch 53/200\n",
            "750/750 [==============================] - 7s 10ms/step - loss: 6.2266e-04 - val_loss: 7.2775e-04\n",
            "Epoch 54/200\n",
            "750/750 [==============================] - 7s 9ms/step - loss: 6.1597e-04 - val_loss: 7.1452e-04\n",
            "Epoch 55/200\n",
            "750/750 [==============================] - 7s 9ms/step - loss: 6.0776e-04 - val_loss: 7.5615e-04\n",
            "Epoch 56/200\n",
            "750/750 [==============================] - 7s 9ms/step - loss: 6.0153e-04 - val_loss: 7.5383e-04\n",
            "Epoch 57/200\n",
            "750/750 [==============================] - 7s 9ms/step - loss: 5.9428e-04 - val_loss: 6.9831e-04\n",
            "Epoch 58/200\n",
            "750/750 [==============================] - 7s 10ms/step - loss: 5.8650e-04 - val_loss: 7.4193e-04\n",
            "Epoch 59/200\n",
            "750/750 [==============================] - 7s 9ms/step - loss: 5.8237e-04 - val_loss: 8.1612e-04\n",
            "Epoch 60/200\n",
            "750/750 [==============================] - 7s 9ms/step - loss: 5.7684e-04 - val_loss: 7.2167e-04\n",
            "Epoch 61/200\n",
            "750/750 [==============================] - 7s 10ms/step - loss: 5.7025e-04 - val_loss: 7.4733e-04\n",
            "Epoch 62/200\n",
            "750/750 [==============================] - 7s 9ms/step - loss: 5.6348e-04 - val_loss: 7.3241e-04\n",
            "Epoch 63/200\n",
            "750/750 [==============================] - 7s 9ms/step - loss: 5.5509e-04 - val_loss: 7.0449e-04\n",
            "Epoch 64/200\n",
            "750/750 [==============================] - 7s 9ms/step - loss: 5.5193e-04 - val_loss: 6.6718e-04\n",
            "Epoch 65/200\n",
            "750/750 [==============================] - 7s 9ms/step - loss: 5.4748e-04 - val_loss: 6.2886e-04\n",
            "Epoch 66/200\n",
            "750/750 [==============================] - 7s 9ms/step - loss: 5.4166e-04 - val_loss: 6.3107e-04\n",
            "Epoch 67/200\n",
            "750/750 [==============================] - 7s 9ms/step - loss: 5.3656e-04 - val_loss: 6.4027e-04\n",
            "Epoch 68/200\n",
            "750/750 [==============================] - 7s 9ms/step - loss: 5.2907e-04 - val_loss: 6.2902e-04\n",
            "Epoch 69/200\n",
            "750/750 [==============================] - 8s 10ms/step - loss: 5.2662e-04 - val_loss: 6.2082e-04\n",
            "Epoch 70/200\n",
            "750/750 [==============================] - 7s 9ms/step - loss: 5.2151e-04 - val_loss: 6.7314e-04\n",
            "Epoch 71/200\n",
            "750/750 [==============================] - 7s 10ms/step - loss: 5.1773e-04 - val_loss: 6.5573e-04\n",
            "Epoch 72/200\n",
            "750/750 [==============================] - 7s 9ms/step - loss: 5.1151e-04 - val_loss: 6.1658e-04\n",
            "Epoch 73/200\n",
            "750/750 [==============================] - 7s 9ms/step - loss: 5.0700e-04 - val_loss: 6.2248e-04\n",
            "Epoch 74/200\n",
            "750/750 [==============================] - 7s 9ms/step - loss: 5.0108e-04 - val_loss: 6.3374e-04\n",
            "Epoch 75/200\n",
            "750/750 [==============================] - 7s 9ms/step - loss: 4.9969e-04 - val_loss: 6.3977e-04\n",
            "Epoch 76/200\n",
            "750/750 [==============================] - 7s 9ms/step - loss: 4.9246e-04 - val_loss: 6.9074e-04\n",
            "Epoch 77/200\n",
            "750/750 [==============================] - 7s 9ms/step - loss: 4.9081e-04 - val_loss: 6.1965e-04\n",
            "Epoch 78/200\n",
            "750/750 [==============================] - 7s 9ms/step - loss: 4.8548e-04 - val_loss: 7.2990e-04\n",
            "Epoch 79/200\n",
            "750/750 [==============================] - 7s 9ms/step - loss: 4.8186e-04 - val_loss: 6.4018e-04\n",
            "Epoch 80/200\n",
            "750/750 [==============================] - 7s 9ms/step - loss: 4.7830e-04 - val_loss: 6.2909e-04\n",
            "Epoch 81/200\n",
            "750/750 [==============================] - 7s 9ms/step - loss: 4.7376e-04 - val_loss: 5.9245e-04\n",
            "Epoch 82/200\n",
            "750/750 [==============================] - 7s 9ms/step - loss: 4.7117e-04 - val_loss: 6.7795e-04\n",
            "Epoch 83/200\n",
            "750/750 [==============================] - 7s 9ms/step - loss: 4.6767e-04 - val_loss: 6.4695e-04\n",
            "Epoch 84/200\n",
            "750/750 [==============================] - 7s 10ms/step - loss: 4.6377e-04 - val_loss: 6.4094e-04\n",
            "Epoch 85/200\n",
            "750/750 [==============================] - 7s 10ms/step - loss: 4.6027e-04 - val_loss: 6.3533e-04\n",
            "Epoch 86/200\n",
            "750/750 [==============================] - 7s 9ms/step - loss: 4.5846e-04 - val_loss: 6.4540e-04\n",
            "Epoch 87/200\n",
            "750/750 [==============================] - 7s 9ms/step - loss: 4.5332e-04 - val_loss: 6.4499e-04\n",
            "Epoch 88/200\n",
            "750/750 [==============================] - 7s 9ms/step - loss: 4.5068e-04 - val_loss: 6.0169e-04\n",
            "Epoch 89/200\n",
            "750/750 [==============================] - 7s 9ms/step - loss: 4.4668e-04 - val_loss: 6.0565e-04\n",
            "Epoch 90/200\n",
            "750/750 [==============================] - 7s 9ms/step - loss: 4.4306e-04 - val_loss: 6.9022e-04\n",
            "Epoch 91/200\n",
            "750/750 [==============================] - 7s 9ms/step - loss: 4.3926e-04 - val_loss: 6.0433e-04\n",
            "Epoch 92/200\n",
            "750/750 [==============================] - 7s 10ms/step - loss: 4.3852e-04 - val_loss: 6.1296e-04\n",
            "Epoch 93/200\n",
            "750/750 [==============================] - 7s 9ms/step - loss: 4.3405e-04 - val_loss: 5.9001e-04\n",
            "Epoch 94/200\n",
            "750/750 [==============================] - 7s 9ms/step - loss: 4.3065e-04 - val_loss: 6.2243e-04\n",
            "Epoch 95/200\n",
            "750/750 [==============================] - 7s 9ms/step - loss: 4.2892e-04 - val_loss: 5.8224e-04\n",
            "Epoch 96/200\n",
            "750/750 [==============================] - 7s 9ms/step - loss: 4.2625e-04 - val_loss: 6.3927e-04\n",
            "Epoch 97/200\n",
            "750/750 [==============================] - 7s 9ms/step - loss: 4.2350e-04 - val_loss: 5.5345e-04\n",
            "Epoch 98/200\n",
            "750/750 [==============================] - 7s 9ms/step - loss: 4.2049e-04 - val_loss: 6.0476e-04\n",
            "Epoch 99/200\n",
            "750/750 [==============================] - 7s 9ms/step - loss: 4.1943e-04 - val_loss: 5.6136e-04\n",
            "Epoch 100/200\n",
            "750/750 [==============================] - 7s 9ms/step - loss: 4.1529e-04 - val_loss: 5.9851e-04\n",
            "Epoch 101/200\n",
            "750/750 [==============================] - 7s 9ms/step - loss: 4.1149e-04 - val_loss: 6.4148e-04\n",
            "Epoch 102/200\n",
            "750/750 [==============================] - 7s 9ms/step - loss: 4.1007e-04 - val_loss: 5.9920e-04\n",
            "Epoch 103/200\n",
            "750/750 [==============================] - 7s 9ms/step - loss: 4.0747e-04 - val_loss: 5.3796e-04\n",
            "Epoch 104/200\n",
            "750/750 [==============================] - 7s 9ms/step - loss: 4.0431e-04 - val_loss: 5.3886e-04\n",
            "Epoch 105/200\n",
            "750/750 [==============================] - 7s 9ms/step - loss: 4.0394e-04 - val_loss: 5.9345e-04\n",
            "Epoch 106/200\n",
            "750/750 [==============================] - 7s 9ms/step - loss: 3.9916e-04 - val_loss: 6.3367e-04\n",
            "Epoch 107/200\n",
            "750/750 [==============================] - 7s 10ms/step - loss: 3.9703e-04 - val_loss: 5.5695e-04\n",
            "Epoch 108/200\n",
            "750/750 [==============================] - 7s 10ms/step - loss: 3.9616e-04 - val_loss: 5.7908e-04\n",
            "Epoch 109/200\n",
            "750/750 [==============================] - 7s 9ms/step - loss: 3.9293e-04 - val_loss: 5.6558e-04\n",
            "Epoch 110/200\n",
            "750/750 [==============================] - 7s 9ms/step - loss: 3.9060e-04 - val_loss: 6.2472e-04\n",
            "Epoch 111/200\n",
            "750/750 [==============================] - 7s 9ms/step - loss: 3.8885e-04 - val_loss: 6.3092e-04\n",
            "Epoch 112/200\n",
            "750/750 [==============================] - 7s 9ms/step - loss: 3.8712e-04 - val_loss: 6.2442e-04\n",
            "Epoch 113/200\n",
            "750/750 [==============================] - 7s 9ms/step - loss: 3.8463e-04 - val_loss: 5.6058e-04\n",
            "Epoch 114/200\n",
            "750/750 [==============================] - 7s 10ms/step - loss: 3.8308e-04 - val_loss: 5.7932e-04\n",
            "Epoch 115/200\n",
            "750/750 [==============================] - 7s 9ms/step - loss: 3.8000e-04 - val_loss: 6.1898e-04\n",
            "Epoch 116/200\n",
            "750/750 [==============================] - 7s 10ms/step - loss: 3.7794e-04 - val_loss: 5.7198e-04\n",
            "Epoch 117/200\n",
            "750/750 [==============================] - 7s 9ms/step - loss: 3.7665e-04 - val_loss: 5.6487e-04\n",
            "Epoch 118/200\n",
            "750/750 [==============================] - 7s 9ms/step - loss: 3.7483e-04 - val_loss: 5.4235e-04\n",
            "Epoch 119/200\n",
            "750/750 [==============================] - 7s 9ms/step - loss: 3.7200e-04 - val_loss: 6.1189e-04\n",
            "Epoch 120/200\n",
            "750/750 [==============================] - 7s 9ms/step - loss: 3.7058e-04 - val_loss: 5.2999e-04\n",
            "Epoch 121/200\n",
            "750/750 [==============================] - 7s 10ms/step - loss: 3.6869e-04 - val_loss: 5.3186e-04\n",
            "Epoch 122/200\n",
            "750/750 [==============================] - 7s 10ms/step - loss: 3.6662e-04 - val_loss: 6.5204e-04\n",
            "Epoch 123/200\n",
            "750/750 [==============================] - 7s 9ms/step - loss: 3.6594e-04 - val_loss: 5.9752e-04\n",
            "Epoch 124/200\n",
            "750/750 [==============================] - 7s 9ms/step - loss: 3.6249e-04 - val_loss: 5.8946e-04\n",
            "Epoch 125/200\n",
            "750/750 [==============================] - 7s 10ms/step - loss: 3.6109e-04 - val_loss: 5.7797e-04\n",
            "Epoch 126/200\n",
            "750/750 [==============================] - 7s 9ms/step - loss: 3.5912e-04 - val_loss: 7.2049e-04\n",
            "Epoch 127/200\n",
            "750/750 [==============================] - 7s 9ms/step - loss: 3.5721e-04 - val_loss: 6.3420e-04\n",
            "Epoch 128/200\n",
            "750/750 [==============================] - 7s 10ms/step - loss: 3.5634e-04 - val_loss: 5.1754e-04\n",
            "Epoch 129/200\n",
            "750/750 [==============================] - 7s 10ms/step - loss: 3.5476e-04 - val_loss: 5.1078e-04\n",
            "Epoch 130/200\n",
            "750/750 [==============================] - 7s 9ms/step - loss: 3.5292e-04 - val_loss: 5.2468e-04\n",
            "Epoch 131/200\n",
            "750/750 [==============================] - 7s 9ms/step - loss: 3.5150e-04 - val_loss: 6.0410e-04\n",
            "Epoch 132/200\n",
            "750/750 [==============================] - 7s 9ms/step - loss: 3.4960e-04 - val_loss: 5.5311e-04\n",
            "Epoch 133/200\n",
            "750/750 [==============================] - 7s 9ms/step - loss: 3.4834e-04 - val_loss: 5.6704e-04\n",
            "Epoch 134/200\n",
            "750/750 [==============================] - 7s 10ms/step - loss: 3.4679e-04 - val_loss: 5.9087e-04\n",
            "Epoch 135/200\n",
            "750/750 [==============================] - 7s 9ms/step - loss: 3.4665e-04 - val_loss: 5.4092e-04\n",
            "Epoch 136/200\n",
            "750/750 [==============================] - 7s 9ms/step - loss: 3.4296e-04 - val_loss: 6.0723e-04\n",
            "Epoch 137/200\n",
            "750/750 [==============================] - 7s 9ms/step - loss: 3.4302e-04 - val_loss: 5.7395e-04\n",
            "Epoch 138/200\n",
            "750/750 [==============================] - 7s 9ms/step - loss: 3.4027e-04 - val_loss: 5.3188e-04\n",
            "Epoch 139/200\n",
            "750/750 [==============================] - 7s 9ms/step - loss: 3.3916e-04 - val_loss: 5.6034e-04\n",
            "Epoch 140/200\n",
            "750/750 [==============================] - 7s 9ms/step - loss: 3.3813e-04 - val_loss: 4.9267e-04\n",
            "Epoch 141/200\n",
            "750/750 [==============================] - 7s 9ms/step - loss: 3.3644e-04 - val_loss: 5.0778e-04\n",
            "Epoch 142/200\n",
            "750/750 [==============================] - 7s 10ms/step - loss: 3.3562e-04 - val_loss: 5.4068e-04\n",
            "Epoch 143/200\n",
            "750/750 [==============================] - 7s 9ms/step - loss: 3.3274e-04 - val_loss: 5.3136e-04\n",
            "Epoch 144/200\n",
            "750/750 [==============================] - 7s 10ms/step - loss: 3.3298e-04 - val_loss: 5.2245e-04\n",
            "Epoch 145/200\n",
            "750/750 [==============================] - 7s 9ms/step - loss: 3.3096e-04 - val_loss: 4.7968e-04\n",
            "Epoch 146/200\n",
            "750/750 [==============================] - 7s 10ms/step - loss: 3.3044e-04 - val_loss: 5.2349e-04\n",
            "Epoch 147/200\n",
            "750/750 [==============================] - 7s 10ms/step - loss: 3.2945e-04 - val_loss: 5.1931e-04\n",
            "Epoch 148/200\n",
            "750/750 [==============================] - 7s 9ms/step - loss: 3.2766e-04 - val_loss: 4.9835e-04\n",
            "Epoch 149/200\n",
            "750/750 [==============================] - 7s 9ms/step - loss: 3.2626e-04 - val_loss: 5.1306e-04\n",
            "Epoch 150/200\n",
            "750/750 [==============================] - 7s 10ms/step - loss: 3.2432e-04 - val_loss: 5.4976e-04\n",
            "Epoch 151/200\n",
            "750/750 [==============================] - 7s 9ms/step - loss: 3.2464e-04 - val_loss: 5.2254e-04\n",
            "Epoch 152/200\n",
            "750/750 [==============================] - 7s 9ms/step - loss: 3.2441e-04 - val_loss: 5.3741e-04\n",
            "Epoch 153/200\n",
            "750/750 [==============================] - 7s 9ms/step - loss: 3.2092e-04 - val_loss: 5.4473e-04\n",
            "Epoch 154/200\n",
            "750/750 [==============================] - 7s 10ms/step - loss: 3.2100e-04 - val_loss: 5.7398e-04\n",
            "Epoch 155/200\n",
            "750/750 [==============================] - 7s 10ms/step - loss: 3.1849e-04 - val_loss: 5.6863e-04\n",
            "Epoch 156/200\n",
            "750/750 [==============================] - 7s 9ms/step - loss: 3.1792e-04 - val_loss: 5.5493e-04\n",
            "Epoch 157/200\n",
            "750/750 [==============================] - 7s 9ms/step - loss: 3.1713e-04 - val_loss: 5.7475e-04\n",
            "Epoch 158/200\n",
            "750/750 [==============================] - 7s 9ms/step - loss: 3.1474e-04 - val_loss: 5.5878e-04\n",
            "Epoch 159/200\n",
            "750/750 [==============================] - 7s 10ms/step - loss: 3.1395e-04 - val_loss: 5.5427e-04\n",
            "Epoch 160/200\n",
            "750/750 [==============================] - 7s 9ms/step - loss: 3.1223e-04 - val_loss: 5.6177e-04\n",
            "Epoch 161/200\n",
            "750/750 [==============================] - 7s 10ms/step - loss: 3.1271e-04 - val_loss: 5.3621e-04\n",
            "Epoch 162/200\n",
            "750/750 [==============================] - 7s 10ms/step - loss: 3.1131e-04 - val_loss: 5.2618e-04\n",
            "Epoch 163/200\n",
            "750/750 [==============================] - 7s 10ms/step - loss: 3.0980e-04 - val_loss: 5.1902e-04\n",
            "Epoch 164/200\n",
            "750/750 [==============================] - 7s 10ms/step - loss: 3.0853e-04 - val_loss: 5.3744e-04\n",
            "Epoch 165/200\n",
            "750/750 [==============================] - 7s 9ms/step - loss: 3.0852e-04 - val_loss: 5.3792e-04\n",
            "Epoch 166/200\n",
            "750/750 [==============================] - 7s 9ms/step - loss: 3.0664e-04 - val_loss: 5.5332e-04\n",
            "Epoch 167/200\n",
            "750/750 [==============================] - 7s 9ms/step - loss: 3.0536e-04 - val_loss: 5.6923e-04\n",
            "Epoch 168/200\n",
            "750/750 [==============================] - 7s 10ms/step - loss: 3.0499e-04 - val_loss: 6.7701e-04\n",
            "Epoch 169/200\n",
            "750/750 [==============================] - 7s 10ms/step - loss: 3.0498e-04 - val_loss: 5.0638e-04\n",
            "Epoch 170/200\n",
            "750/750 [==============================] - 7s 10ms/step - loss: 3.0209e-04 - val_loss: 5.4759e-04\n",
            "Epoch 171/200\n",
            "750/750 [==============================] - 7s 10ms/step - loss: 3.0154e-04 - val_loss: 5.1523e-04\n",
            "Epoch 172/200\n",
            "750/750 [==============================] - 7s 10ms/step - loss: 3.0108e-04 - val_loss: 5.0289e-04\n",
            "Epoch 173/200\n",
            "750/750 [==============================] - 8s 10ms/step - loss: 2.9818e-04 - val_loss: 5.3616e-04\n",
            "Epoch 174/200\n",
            "750/750 [==============================] - 7s 9ms/step - loss: 2.9931e-04 - val_loss: 4.7673e-04\n",
            "Epoch 175/200\n",
            "750/750 [==============================] - 7s 10ms/step - loss: 2.9802e-04 - val_loss: 5.3856e-04\n",
            "Epoch 176/200\n",
            "750/750 [==============================] - 7s 10ms/step - loss: 2.9762e-04 - val_loss: 5.1763e-04\n",
            "Epoch 177/200\n",
            "750/750 [==============================] - 7s 9ms/step - loss: 2.9634e-04 - val_loss: 5.0583e-04\n",
            "Epoch 178/200\n",
            "750/750 [==============================] - 7s 9ms/step - loss: 2.9487e-04 - val_loss: 5.5272e-04\n",
            "Epoch 179/200\n",
            "750/750 [==============================] - 7s 9ms/step - loss: 2.9453e-04 - val_loss: 5.1277e-04\n",
            "Epoch 180/200\n",
            "750/750 [==============================] - 7s 9ms/step - loss: 2.9378e-04 - val_loss: 5.0342e-04\n",
            "Epoch 181/200\n",
            "750/750 [==============================] - 7s 9ms/step - loss: 2.9316e-04 - val_loss: 5.0324e-04\n",
            "Epoch 182/200\n",
            "750/750 [==============================] - 7s 9ms/step - loss: 2.9050e-04 - val_loss: 5.2660e-04\n",
            "Epoch 183/200\n",
            "750/750 [==============================] - 7s 9ms/step - loss: 2.9140e-04 - val_loss: 5.2120e-04\n",
            "Epoch 184/200\n",
            "750/750 [==============================] - 7s 9ms/step - loss: 2.8965e-04 - val_loss: 5.1066e-04\n",
            "Epoch 185/200\n",
            "750/750 [==============================] - 7s 10ms/step - loss: 2.8873e-04 - val_loss: 5.4256e-04\n",
            "Epoch 186/200\n",
            "750/750 [==============================] - 7s 9ms/step - loss: 2.8840e-04 - val_loss: 4.9366e-04\n",
            "Epoch 187/200\n",
            "750/750 [==============================] - 7s 10ms/step - loss: 2.8815e-04 - val_loss: 4.9611e-04\n",
            "Epoch 188/200\n",
            "750/750 [==============================] - 7s 9ms/step - loss: 2.8617e-04 - val_loss: 5.1267e-04\n",
            "Epoch 189/200\n",
            "750/750 [==============================] - 7s 10ms/step - loss: 2.8471e-04 - val_loss: 4.8134e-04\n",
            "Epoch 190/200\n",
            "750/750 [==============================] - 7s 10ms/step - loss: 2.8499e-04 - val_loss: 5.3402e-04\n",
            "Epoch 191/200\n",
            "750/750 [==============================] - 7s 10ms/step - loss: 2.8424e-04 - val_loss: 4.9877e-04\n",
            "Epoch 192/200\n",
            "750/750 [==============================] - 7s 10ms/step - loss: 2.8352e-04 - val_loss: 5.0393e-04\n",
            "Epoch 193/200\n",
            "750/750 [==============================] - 7s 10ms/step - loss: 2.8248e-04 - val_loss: 5.0240e-04\n",
            "Epoch 194/200\n",
            "750/750 [==============================] - 7s 10ms/step - loss: 2.8153e-04 - val_loss: 5.1352e-04\n",
            "Epoch 195/200\n",
            "750/750 [==============================] - 7s 10ms/step - loss: 2.8127e-04 - val_loss: 5.3382e-04\n",
            "Epoch 196/200\n",
            "750/750 [==============================] - 7s 9ms/step - loss: 2.7988e-04 - val_loss: 5.0848e-04\n",
            "Epoch 197/200\n",
            "750/750 [==============================] - 7s 9ms/step - loss: 2.7897e-04 - val_loss: 5.0623e-04\n",
            "Epoch 198/200\n",
            "750/750 [==============================] - 7s 9ms/step - loss: 2.7923e-04 - val_loss: 4.9132e-04\n",
            "Epoch 199/200\n",
            "750/750 [==============================] - 7s 10ms/step - loss: 2.7754e-04 - val_loss: 4.8484e-04\n",
            "Epoch 200/200\n",
            "750/750 [==============================] - 7s 10ms/step - loss: 2.7756e-04 - val_loss: 4.7886e-04\n"
          ],
          "name": "stdout"
        }
      ]
    },
    {
      "cell_type": "code",
      "metadata": {
        "colab": {
          "base_uri": "https://localhost:8080/",
          "height": 281
        },
        "id": "wO5c_VkgWra4",
        "outputId": "0456083a-3aa6-490c-9498-dadcf31c8620"
      },
      "source": [
        "loss = autoencoder_train.history['loss']\n",
        "val_loss = autoencoder_train.history['val_loss']\n",
        "epochs = range(200)\n",
        "plt.figure()\n",
        "plt.plot(epochs, loss, 'bo', label='Training loss')\n",
        "plt.plot(epochs, val_loss, 'b', label='Validation loss')\n",
        "plt.title('Training and validation loss')\n",
        "plt.legend()\n",
        "plt.show()"
      ],
      "execution_count": 26,
      "outputs": [
        {
          "output_type": "display_data",
          "data": {
            "image/png": "[encoded data removed]",
            "text/plain": [
              "<Figure size 432x288 with 1 Axes>"
            ]
          },
          "metadata": {
            "tags": [],
            "needs_background": "light"
          }
        }
      ]
    },
    {
      "cell_type": "code",
      "metadata": {
        "id": "uJGQA-JUv5-8"
      },
      "source": [
        "autoencoder.save_weights('autoencoder.h5')"
      ],
      "execution_count": 27,
      "outputs": []
    },
    {
      "cell_type": "markdown",
      "metadata": {
        "id": "ptEZ9N8RwCSa"
      },
      "source": [
        "# Segment the mnist images"
      ]
    },
    {
      "cell_type": "code",
      "metadata": {
        "colab": {
          "base_uri": "https://localhost:8080/"
        },
        "id": "1FmlhEqvv90g",
        "outputId": "d8050a8a-aa41-4987-a907-c9fcdb21822c"
      },
      "source": [
        "# Change the labels from categorical to one-hot encoding\n",
        "train_Y_one_hot = to_categorical(train_labels)\n",
        "test_Y_one_hot = to_categorical(test_labels)\n",
        "\n",
        "# Display the change for category label using one-hot encoding\n",
        "print('Original label:', train_labels[0])\n",
        "print('After conversion to one-hot:', train_Y_one_hot[0])"
      ],
      "execution_count": 28,
      "outputs": [
        {
          "output_type": "stream",
          "text": [
            "Original label: 5\n",
            "After conversion to one-hot: [0. 0. 0. 0. 0. 1. 0. 0. 0. 0.]\n"
          ],
          "name": "stdout"
        }
      ]
    },
    {
      "cell_type": "code",
      "metadata": {
        "id": "oCpVt995wBFT"
      },
      "source": [
        "train_X,valid_X,train_label,valid_label = train_test_split(train_data,train_Y_one_hot,test_size=0.2,random_state=13)"
      ],
      "execution_count": 29,
      "outputs": []
    },
    {
      "cell_type": "code",
      "metadata": {
        "colab": {
          "base_uri": "https://localhost:8080/"
        },
        "id": "JgqM-HV3wO4U",
        "outputId": "c21d20de-fedc-4f6c-880c-b57b96c6025d"
      },
      "source": [
        "train_X.shape,valid_X.shape,train_label.shape,valid_label.shape"
      ],
      "execution_count": 30,
      "outputs": [
        {
          "output_type": "execute_result",
          "data": {
            "text/plain": [
              "((48000, 28, 28, 1), (12000, 28, 28, 1), (48000, 10), (12000, 10))"
            ]
          },
          "metadata": {
            "tags": []
          },
          "execution_count": 30
        }
      ]
    },
    {
      "cell_type": "code",
      "metadata": {
        "id": "18KmRwCCwZ0E"
      },
      "source": [
        "def fc(enco):\n",
        "    flat = Flatten()(enco)\n",
        "    den = Dense(128, activation='relu')(flat)\n",
        "    out = Dense(num_classes, activation='softmax')(den)\n",
        "    return out"
      ],
      "execution_count": 31,
      "outputs": []
    },
    {
      "cell_type": "code",
      "metadata": {
        "id": "DCLEykqNw2du"
      },
      "source": [
        "encode = encoder(input_img)\n",
        "full_model = Model(input_img, fc(encode))"
      ],
      "execution_count": 32,
      "outputs": []
    },
    {
      "cell_type": "markdown",
      "metadata": {
        "id": "nYb-kjxdY4av"
      },
      "source": [
        "**Ensure that the autoencoder weights and full_model weights are the same.**"
      ]
    },
    {
      "cell_type": "code",
      "metadata": {
        "id": "ohJQMGlxwihz"
      },
      "source": [
        "for l1,l2 in zip(full_model.layers[:19],autoencoder.layers[0:19]):\n",
        "    l1.set_weights(l2.get_weights())"
      ],
      "execution_count": 33,
      "outputs": []
    },
    {
      "cell_type": "code",
      "metadata": {
        "colab": {
          "base_uri": "https://localhost:8080/"
        },
        "id": "6k1hJ3Wwwl3z",
        "outputId": "13300bfc-81ba-412a-8f05-3de24971703b"
      },
      "source": [
        "autoencoder.get_weights()[0][1]"
      ],
      "execution_count": 34,
      "outputs": [
        {
          "output_type": "execute_result",
          "data": {
            "text/plain": [
              "array([[[-0.35850146, -0.3628897 ,  0.16320843, -0.02042229,\n",
              "         -0.58496195, -0.544155  ,  0.38917303, -0.8539123 ,\n",
              "          0.00600353,  0.3952878 ,  0.24810702,  0.00495473,\n",
              "         -0.04551886,  0.27502927, -0.02461718, -0.3591425 ,\n",
              "         -0.09031041, -0.28026372,  0.4447739 , -0.8681317 ,\n",
              "         -0.08619917, -0.5650598 ,  0.11265071,  0.45872423,\n",
              "         -0.09013296,  0.18074892, -0.7344903 ,  0.54246145,\n",
              "          0.52303606,  0.16706619, -0.41626394,  0.310458  ]],\n",
              "\n",
              "       [[-0.35082301, -0.05836569,  0.67418426, -0.16739982,\n",
              "         -0.9620832 ,  0.02024651, -1.1448654 , -1.1831212 ,\n",
              "         -0.21178341,  0.407842  , -0.24093373,  0.12326954,\n",
              "         -0.06206692,  0.13861604, -0.05252824,  0.45764706,\n",
              "          0.12397981, -0.19465357,  0.31997004,  0.35627094,\n",
              "         -0.03023756, -0.560177  ,  0.05996694, -0.81095374,\n",
              "          0.5384732 ,  0.5109031 , -0.10160064, -0.5953662 ,\n",
              "         -0.4465535 ,  0.31799713, -0.14769666, -0.02368569]],\n",
              "\n",
              "       [[-0.10985978,  0.07714207, -0.09898977, -0.18823421,\n",
              "         -0.35277843, -0.32158524,  0.07711676, -0.266271  ,\n",
              "         -0.2525257 , -0.4623827 ,  0.22068088, -0.2522592 ,\n",
              "         -0.04303811,  0.14407574,  0.9943435 ,  0.246992  ,\n",
              "          1.324536  ,  0.30022392, -0.17943735,  0.6910841 ,\n",
              "          0.00195907,  0.00966275, -0.11878351,  0.02079622,\n",
              "         -0.13982394, -0.8120345 , -0.26759878, -0.17470422,\n",
              "         -0.34591338,  0.6368872 , -0.2284481 , -0.67338437]]],\n",
              "      dtype=float32)"
            ]
          },
          "metadata": {
            "tags": []
          },
          "execution_count": 34
        }
      ]
    },
    {
      "cell_type": "code",
      "metadata": {
        "colab": {
          "base_uri": "https://localhost:8080/"
        },
        "id": "U2bg00Eyw789",
        "outputId": "f66d4ea3-b537-4e2b-8995-c91065927d83"
      },
      "source": [
        "full_model.get_weights()[0][1]"
      ],
      "execution_count": 35,
      "outputs": [
        {
          "output_type": "execute_result",
          "data": {
            "text/plain": [
              "array([[[-0.35850146, -0.3628897 ,  0.16320843, -0.02042229,\n",
              "         -0.58496195, -0.544155  ,  0.38917303, -0.8539123 ,\n",
              "          0.00600353,  0.3952878 ,  0.24810702,  0.00495473,\n",
              "         -0.04551886,  0.27502927, -0.02461718, -0.3591425 ,\n",
              "         -0.09031041, -0.28026372,  0.4447739 , -0.8681317 ,\n",
              "         -0.08619917, -0.5650598 ,  0.11265071,  0.45872423,\n",
              "         -0.09013296,  0.18074892, -0.7344903 ,  0.54246145,\n",
              "          0.52303606,  0.16706619, -0.41626394,  0.310458  ]],\n",
              "\n",
              "       [[-0.35082301, -0.05836569,  0.67418426, -0.16739982,\n",
              "         -0.9620832 ,  0.02024651, -1.1448654 , -1.1831212 ,\n",
              "         -0.21178341,  0.407842  , -0.24093373,  0.12326954,\n",
              "         -0.06206692,  0.13861604, -0.05252824,  0.45764706,\n",
              "          0.12397981, -0.19465357,  0.31997004,  0.35627094,\n",
              "         -0.03023756, -0.560177  ,  0.05996694, -0.81095374,\n",
              "          0.5384732 ,  0.5109031 , -0.10160064, -0.5953662 ,\n",
              "         -0.4465535 ,  0.31799713, -0.14769666, -0.02368569]],\n",
              "\n",
              "       [[-0.10985978,  0.07714207, -0.09898977, -0.18823421,\n",
              "         -0.35277843, -0.32158524,  0.07711676, -0.266271  ,\n",
              "         -0.2525257 , -0.4623827 ,  0.22068088, -0.2522592 ,\n",
              "         -0.04303811,  0.14407574,  0.9943435 ,  0.246992  ,\n",
              "          1.324536  ,  0.30022392, -0.17943735,  0.6910841 ,\n",
              "          0.00195907,  0.00966275, -0.11878351,  0.02079622,\n",
              "         -0.13982394, -0.8120345 , -0.26759878, -0.17470422,\n",
              "         -0.34591338,  0.6368872 , -0.2284481 , -0.67338437]]],\n",
              "      dtype=float32)"
            ]
          },
          "metadata": {
            "tags": []
          },
          "execution_count": 35
        }
      ]
    },
    {
      "cell_type": "markdown",
      "metadata": {
        "id": "hsWBEsJhZIJj"
      },
      "source": [
        "**The weights are the same.**"
      ]
    },
    {
      "cell_type": "code",
      "metadata": {
        "id": "-GyJ26dkxA3i"
      },
      "source": [
        "for layer in full_model.layers[0:19]:\n",
        "    layer.trainable = False"
      ],
      "execution_count": 36,
      "outputs": []
    },
    {
      "cell_type": "code",
      "metadata": {
        "id": "b3AyhTWJxDva"
      },
      "source": [
        "full_model.compile(loss=tf.keras.losses.categorical_crossentropy, optimizer=tf.keras.optimizers.Adam(),metrics=['accuracy'])"
      ],
      "execution_count": 37,
      "outputs": []
    },
    {
      "cell_type": "code",
      "metadata": {
        "colab": {
          "base_uri": "https://localhost:8080/"
        },
        "id": "n5urTb8zxGkJ",
        "outputId": "172844c9-52dd-452e-b410-c003c736442c"
      },
      "source": [
        "full_model.summary()"
      ],
      "execution_count": 39,
      "outputs": [
        {
          "output_type": "stream",
          "text": [
            "Model: \"functional_5\"\n",
            "_________________________________________________________________\n",
            "Layer (type)                 Output Shape              Param #   \n",
            "=================================================================\n",
            "input_2 (InputLayer)         [(None, 28, 28, 1)]       0         \n",
            "_________________________________________________________________\n",
            "conv2d_30 (Conv2D)           (None, 28, 28, 32)        320       \n",
            "_________________________________________________________________\n",
            "batch_normalization_28 (Batc (None, 28, 28, 32)        128       \n",
            "_________________________________________________________________\n",
            "conv2d_31 (Conv2D)           (None, 28, 28, 32)        9248      \n",
            "_________________________________________________________________\n",
            "batch_normalization_29 (Batc (None, 28, 28, 32)        128       \n",
            "_________________________________________________________________\n",
            "max_pooling2d_4 (MaxPooling2 (None, 14, 14, 32)        0         \n",
            "_________________________________________________________________\n",
            "conv2d_32 (Conv2D)           (None, 14, 14, 64)        18496     \n",
            "_________________________________________________________________\n",
            "batch_normalization_30 (Batc (None, 14, 14, 64)        256       \n",
            "_________________________________________________________________\n",
            "conv2d_33 (Conv2D)           (None, 14, 14, 64)        36928     \n",
            "_________________________________________________________________\n",
            "batch_normalization_31 (Batc (None, 14, 14, 64)        256       \n",
            "_________________________________________________________________\n",
            "max_pooling2d_5 (MaxPooling2 (None, 7, 7, 64)          0         \n",
            "_________________________________________________________________\n",
            "conv2d_34 (Conv2D)           (None, 7, 7, 128)         73856     \n",
            "_________________________________________________________________\n",
            "batch_normalization_32 (Batc (None, 7, 7, 128)         512       \n",
            "_________________________________________________________________\n",
            "conv2d_35 (Conv2D)           (None, 7, 7, 128)         147584    \n",
            "_________________________________________________________________\n",
            "batch_normalization_33 (Batc (None, 7, 7, 128)         512       \n",
            "_________________________________________________________________\n",
            "conv2d_36 (Conv2D)           (None, 7, 7, 256)         295168    \n",
            "_________________________________________________________________\n",
            "batch_normalization_34 (Batc (None, 7, 7, 256)         1024      \n",
            "_________________________________________________________________\n",
            "conv2d_37 (Conv2D)           (None, 7, 7, 256)         590080    \n",
            "_________________________________________________________________\n",
            "batch_normalization_35 (Batc (None, 7, 7, 256)         1024      \n",
            "_________________________________________________________________\n",
            "flatten (Flatten)            (None, 12544)             0         \n",
            "_________________________________________________________________\n",
            "dense (Dense)                (None, 128)               1605760   \n",
            "_________________________________________________________________\n",
            "dense_1 (Dense)              (None, 10)                1290      \n",
            "=================================================================\n",
            "Total params: 2,782,570\n",
            "Trainable params: 1,607,050\n",
            "Non-trainable params: 1,175,520\n",
            "_________________________________________________________________\n"
          ],
          "name": "stdout"
        }
      ]
    },
    {
      "cell_type": "markdown",
      "metadata": {
        "id": "LZQApnktxT13"
      },
      "source": [
        "# Train the Model"
      ]
    },
    {
      "cell_type": "code",
      "metadata": {
        "colab": {
          "base_uri": "https://localhost:8080/"
        },
        "id": "Udd2nsrixP1p",
        "outputId": "bcab7ccb-9ced-48c8-e189-37076445174d"
      },
      "source": [
        "classify_train = full_model.fit(train_X, train_label, batch_size=64,epochs=100,verbose=1,validation_data=(valid_X, valid_label))"
      ],
      "execution_count": 40,
      "outputs": [
        {
          "output_type": "stream",
          "text": [
            "Epoch 1/100\n",
            "750/750 [==============================] - 3s 4ms/step - loss: 0.2065 - accuracy: 0.9414 - val_loss: 0.1496 - val_accuracy: 0.9592\n",
            "Epoch 2/100\n",
            "750/750 [==============================] - 3s 4ms/step - loss: 0.0648 - accuracy: 0.9790 - val_loss: 0.1130 - val_accuracy: 0.9700\n",
            "Epoch 3/100\n",
            "750/750 [==============================] - 3s 4ms/step - loss: 0.0369 - accuracy: 0.9883 - val_loss: 0.1721 - val_accuracy: 0.9614\n",
            "Epoch 4/100\n",
            "750/750 [==============================] - 3s 4ms/step - loss: 0.0322 - accuracy: 0.9891 - val_loss: 0.1474 - val_accuracy: 0.9682\n",
            "Epoch 5/100\n",
            "750/750 [==============================] - 3s 4ms/step - loss: 0.0281 - accuracy: 0.9914 - val_loss: 0.1375 - val_accuracy: 0.9710\n",
            "Epoch 6/100\n",
            "750/750 [==============================] - 3s 4ms/step - loss: 0.0265 - accuracy: 0.9915 - val_loss: 0.1392 - val_accuracy: 0.9733\n",
            "Epoch 7/100\n",
            "750/750 [==============================] - 3s 4ms/step - loss: 0.0206 - accuracy: 0.9938 - val_loss: 0.1422 - val_accuracy: 0.9738\n",
            "Epoch 8/100\n",
            "750/750 [==============================] - 3s 4ms/step - loss: 0.0245 - accuracy: 0.9925 - val_loss: 0.1689 - val_accuracy: 0.9708\n",
            "Epoch 9/100\n",
            "750/750 [==============================] - 3s 4ms/step - loss: 0.0168 - accuracy: 0.9949 - val_loss: 0.1588 - val_accuracy: 0.9758\n",
            "Epoch 10/100\n",
            "750/750 [==============================] - 3s 4ms/step - loss: 0.0254 - accuracy: 0.9930 - val_loss: 0.1904 - val_accuracy: 0.9710\n",
            "Epoch 11/100\n",
            "750/750 [==============================] - 3s 4ms/step - loss: 0.0151 - accuracy: 0.9956 - val_loss: 0.1702 - val_accuracy: 0.9762\n",
            "Epoch 12/100\n",
            "750/750 [==============================] - 3s 4ms/step - loss: 0.0243 - accuracy: 0.9934 - val_loss: 0.1969 - val_accuracy: 0.9734\n",
            "Epoch 13/100\n",
            "750/750 [==============================] - 3s 4ms/step - loss: 0.0145 - accuracy: 0.9958 - val_loss: 0.1999 - val_accuracy: 0.9718\n",
            "Epoch 14/100\n",
            "750/750 [==============================] - 3s 4ms/step - loss: 0.0134 - accuracy: 0.9963 - val_loss: 0.1939 - val_accuracy: 0.9748\n",
            "Epoch 15/100\n",
            "750/750 [==============================] - 3s 4ms/step - loss: 0.0158 - accuracy: 0.9959 - val_loss: 0.2135 - val_accuracy: 0.9761\n",
            "Epoch 16/100\n",
            "750/750 [==============================] - 3s 4ms/step - loss: 0.0174 - accuracy: 0.9959 - val_loss: 0.2200 - val_accuracy: 0.9744\n",
            "Epoch 17/100\n",
            "750/750 [==============================] - 3s 4ms/step - loss: 0.0181 - accuracy: 0.9954 - val_loss: 0.2227 - val_accuracy: 0.9754\n",
            "Epoch 18/100\n",
            "750/750 [==============================] - 3s 4ms/step - loss: 0.0124 - accuracy: 0.9967 - val_loss: 0.2240 - val_accuracy: 0.9762\n",
            "Epoch 19/100\n",
            "750/750 [==============================] - 3s 4ms/step - loss: 0.0085 - accuracy: 0.9981 - val_loss: 0.2311 - val_accuracy: 0.9741\n",
            "Epoch 20/100\n",
            "750/750 [==============================] - 3s 4ms/step - loss: 0.0135 - accuracy: 0.9968 - val_loss: 0.2594 - val_accuracy: 0.9756\n",
            "Epoch 21/100\n",
            "750/750 [==============================] - 3s 4ms/step - loss: 0.0146 - accuracy: 0.9964 - val_loss: 0.2543 - val_accuracy: 0.9769\n",
            "Epoch 22/100\n",
            "750/750 [==============================] - 3s 4ms/step - loss: 0.0105 - accuracy: 0.9975 - val_loss: 0.2462 - val_accuracy: 0.9759\n",
            "Epoch 23/100\n",
            "750/750 [==============================] - 3s 4ms/step - loss: 0.0111 - accuracy: 0.9973 - val_loss: 0.2576 - val_accuracy: 0.9757\n",
            "Epoch 24/100\n",
            "750/750 [==============================] - 3s 4ms/step - loss: 0.0109 - accuracy: 0.9980 - val_loss: 0.2722 - val_accuracy: 0.9758\n",
            "Epoch 25/100\n",
            "750/750 [==============================] - 3s 4ms/step - loss: 0.0107 - accuracy: 0.9972 - val_loss: 0.2637 - val_accuracy: 0.9770\n",
            "Epoch 26/100\n",
            "750/750 [==============================] - 3s 4ms/step - loss: 0.0086 - accuracy: 0.9978 - val_loss: 0.2604 - val_accuracy: 0.9775\n",
            "Epoch 27/100\n",
            "750/750 [==============================] - 3s 4ms/step - loss: 0.0092 - accuracy: 0.9979 - val_loss: 0.2848 - val_accuracy: 0.9756\n",
            "Epoch 28/100\n",
            "750/750 [==============================] - 3s 4ms/step - loss: 0.0156 - accuracy: 0.9970 - val_loss: 0.2685 - val_accuracy: 0.9768\n",
            "Epoch 29/100\n",
            "750/750 [==============================] - 3s 4ms/step - loss: 0.0097 - accuracy: 0.9979 - val_loss: 0.3406 - val_accuracy: 0.9725\n",
            "Epoch 30/100\n",
            "750/750 [==============================] - 3s 4ms/step - loss: 0.0104 - accuracy: 0.9981 - val_loss: 0.3126 - val_accuracy: 0.9775\n",
            "Epoch 31/100\n",
            "750/750 [==============================] - 3s 4ms/step - loss: 0.0126 - accuracy: 0.9977 - val_loss: 0.2622 - val_accuracy: 0.9776\n",
            "Epoch 32/100\n",
            "750/750 [==============================] - 3s 4ms/step - loss: 0.0105 - accuracy: 0.9981 - val_loss: 0.3027 - val_accuracy: 0.9782\n",
            "Epoch 33/100\n",
            "750/750 [==============================] - 3s 4ms/step - loss: 0.0097 - accuracy: 0.9979 - val_loss: 0.2818 - val_accuracy: 0.9785\n",
            "Epoch 34/100\n",
            "750/750 [==============================] - 3s 4ms/step - loss: 0.0072 - accuracy: 0.9983 - val_loss: 0.3257 - val_accuracy: 0.9764\n",
            "Epoch 35/100\n",
            "750/750 [==============================] - 3s 4ms/step - loss: 0.0118 - accuracy: 0.9979 - val_loss: 0.3166 - val_accuracy: 0.9772\n",
            "Epoch 36/100\n",
            "750/750 [==============================] - 3s 4ms/step - loss: 0.0120 - accuracy: 0.9976 - val_loss: 0.3818 - val_accuracy: 0.9728\n",
            "Epoch 37/100\n",
            "750/750 [==============================] - 3s 4ms/step - loss: 0.0055 - accuracy: 0.9988 - val_loss: 0.3544 - val_accuracy: 0.9765\n",
            "Epoch 38/100\n",
            "750/750 [==============================] - 3s 4ms/step - loss: 0.0083 - accuracy: 0.9984 - val_loss: 0.3437 - val_accuracy: 0.9767\n",
            "Epoch 39/100\n",
            "750/750 [==============================] - 3s 4ms/step - loss: 0.0069 - accuracy: 0.9985 - val_loss: 0.3565 - val_accuracy: 0.9778\n",
            "Epoch 40/100\n",
            "750/750 [==============================] - 3s 4ms/step - loss: 0.0121 - accuracy: 0.9981 - val_loss: 0.3799 - val_accuracy: 0.9766\n",
            "Epoch 41/100\n",
            "750/750 [==============================] - 3s 4ms/step - loss: 0.0111 - accuracy: 0.9983 - val_loss: 0.3321 - val_accuracy: 0.9793\n",
            "Epoch 42/100\n",
            "750/750 [==============================] - 3s 4ms/step - loss: 0.0068 - accuracy: 0.9987 - val_loss: 0.4797 - val_accuracy: 0.9750\n",
            "Epoch 43/100\n",
            "750/750 [==============================] - 3s 4ms/step - loss: 0.0079 - accuracy: 0.9986 - val_loss: 0.3740 - val_accuracy: 0.9773\n",
            "Epoch 44/100\n",
            "750/750 [==============================] - 3s 4ms/step - loss: 0.0101 - accuracy: 0.9984 - val_loss: 0.4793 - val_accuracy: 0.9733\n",
            "Epoch 45/100\n",
            "750/750 [==============================] - 3s 4ms/step - loss: 0.0107 - accuracy: 0.9980 - val_loss: 0.3943 - val_accuracy: 0.9762\n",
            "Epoch 46/100\n",
            "750/750 [==============================] - 3s 4ms/step - loss: 0.0097 - accuracy: 0.9985 - val_loss: 0.4310 - val_accuracy: 0.9763\n",
            "Epoch 47/100\n",
            "750/750 [==============================] - 3s 4ms/step - loss: 0.0047 - accuracy: 0.9993 - val_loss: 0.3999 - val_accuracy: 0.9781\n",
            "Epoch 48/100\n",
            "750/750 [==============================] - 3s 4ms/step - loss: 0.0101 - accuracy: 0.9984 - val_loss: 0.3815 - val_accuracy: 0.9780\n",
            "Epoch 49/100\n",
            "750/750 [==============================] - 3s 4ms/step - loss: 0.0093 - accuracy: 0.9984 - val_loss: 0.4096 - val_accuracy: 0.9768\n",
            "Epoch 50/100\n",
            "750/750 [==============================] - 3s 4ms/step - loss: 0.0074 - accuracy: 0.9987 - val_loss: 0.4156 - val_accuracy: 0.9763\n",
            "Epoch 51/100\n",
            "750/750 [==============================] - 3s 4ms/step - loss: 0.0052 - accuracy: 0.9990 - val_loss: 0.4343 - val_accuracy: 0.9768\n",
            "Epoch 52/100\n",
            "750/750 [==============================] - 3s 4ms/step - loss: 0.0073 - accuracy: 0.9989 - val_loss: 0.4277 - val_accuracy: 0.9764\n",
            "Epoch 53/100\n",
            "750/750 [==============================] - 3s 4ms/step - loss: 0.0138 - accuracy: 0.9979 - val_loss: 0.4474 - val_accuracy: 0.9772\n",
            "Epoch 54/100\n",
            "750/750 [==============================] - 3s 4ms/step - loss: 0.0078 - accuracy: 0.9987 - val_loss: 0.3865 - val_accuracy: 0.9774\n",
            "Epoch 55/100\n",
            "750/750 [==============================] - 3s 4ms/step - loss: 0.0075 - accuracy: 0.9989 - val_loss: 0.4239 - val_accuracy: 0.9779\n",
            "Epoch 56/100\n",
            "750/750 [==============================] - 3s 4ms/step - loss: 0.0102 - accuracy: 0.9987 - val_loss: 0.4132 - val_accuracy: 0.9788\n",
            "Epoch 57/100\n",
            "750/750 [==============================] - 3s 4ms/step - loss: 0.0050 - accuracy: 0.9992 - val_loss: 0.4120 - val_accuracy: 0.9786\n",
            "Epoch 58/100\n",
            "750/750 [==============================] - 3s 4ms/step - loss: 0.0094 - accuracy: 0.9985 - val_loss: 0.4637 - val_accuracy: 0.9785\n",
            "Epoch 59/100\n",
            "750/750 [==============================] - 3s 4ms/step - loss: 0.0132 - accuracy: 0.9984 - val_loss: 0.4552 - val_accuracy: 0.9773\n",
            "Epoch 60/100\n",
            "750/750 [==============================] - 3s 4ms/step - loss: 0.0086 - accuracy: 0.9989 - val_loss: 0.4565 - val_accuracy: 0.9787\n",
            "Epoch 61/100\n",
            "750/750 [==============================] - 3s 4ms/step - loss: 0.0066 - accuracy: 0.9992 - val_loss: 0.4121 - val_accuracy: 0.9788\n",
            "Epoch 62/100\n",
            "750/750 [==============================] - 3s 4ms/step - loss: 0.0134 - accuracy: 0.9989 - val_loss: 0.4705 - val_accuracy: 0.9783\n",
            "Epoch 63/100\n",
            "750/750 [==============================] - 3s 4ms/step - loss: 0.0080 - accuracy: 0.9989 - val_loss: 0.5008 - val_accuracy: 0.9779\n",
            "Epoch 64/100\n",
            "750/750 [==============================] - 3s 4ms/step - loss: 0.0063 - accuracy: 0.9991 - val_loss: 0.4750 - val_accuracy: 0.9784\n",
            "Epoch 65/100\n",
            "750/750 [==============================] - 3s 4ms/step - loss: 0.0071 - accuracy: 0.9991 - val_loss: 0.4985 - val_accuracy: 0.9778\n",
            "Epoch 66/100\n",
            "750/750 [==============================] - 3s 4ms/step - loss: 0.0061 - accuracy: 0.9991 - val_loss: 0.5693 - val_accuracy: 0.9778\n",
            "Epoch 67/100\n",
            "750/750 [==============================] - 3s 4ms/step - loss: 0.0079 - accuracy: 0.9988 - val_loss: 0.5464 - val_accuracy: 0.9772\n",
            "Epoch 68/100\n",
            "750/750 [==============================] - 3s 4ms/step - loss: 0.0095 - accuracy: 0.9987 - val_loss: 0.5130 - val_accuracy: 0.9781\n",
            "Epoch 69/100\n",
            "750/750 [==============================] - 3s 4ms/step - loss: 0.0075 - accuracy: 0.9990 - val_loss: 0.5147 - val_accuracy: 0.9777\n",
            "Epoch 70/100\n",
            "750/750 [==============================] - 3s 4ms/step - loss: 0.0128 - accuracy: 0.9985 - val_loss: 0.5152 - val_accuracy: 0.9796\n",
            "Epoch 71/100\n",
            "750/750 [==============================] - 3s 4ms/step - loss: 0.0058 - accuracy: 0.9992 - val_loss: 0.4851 - val_accuracy: 0.9779\n",
            "Epoch 72/100\n",
            "750/750 [==============================] - 3s 4ms/step - loss: 0.0071 - accuracy: 0.9990 - val_loss: 0.5340 - val_accuracy: 0.9789\n",
            "Epoch 73/100\n",
            "750/750 [==============================] - 3s 4ms/step - loss: 0.0040 - accuracy: 0.9994 - val_loss: 0.5275 - val_accuracy: 0.9776\n",
            "Epoch 74/100\n",
            "750/750 [==============================] - 3s 4ms/step - loss: 0.0098 - accuracy: 0.9987 - val_loss: 0.6138 - val_accuracy: 0.9747\n",
            "Epoch 75/100\n",
            "750/750 [==============================] - 3s 4ms/step - loss: 0.0093 - accuracy: 0.9990 - val_loss: 0.5784 - val_accuracy: 0.9780\n",
            "Epoch 76/100\n",
            "750/750 [==============================] - 3s 4ms/step - loss: 0.0085 - accuracy: 0.9989 - val_loss: 0.5462 - val_accuracy: 0.9780\n",
            "Epoch 77/100\n",
            "750/750 [==============================] - 3s 4ms/step - loss: 0.0078 - accuracy: 0.9990 - val_loss: 0.5273 - val_accuracy: 0.9793\n",
            "Epoch 78/100\n",
            "750/750 [==============================] - 3s 4ms/step - loss: 0.0054 - accuracy: 0.9992 - val_loss: 0.4830 - val_accuracy: 0.9817\n",
            "Epoch 79/100\n",
            "750/750 [==============================] - 3s 4ms/step - loss: 0.0040 - accuracy: 0.9994 - val_loss: 0.5394 - val_accuracy: 0.9800\n",
            "Epoch 80/100\n",
            "750/750 [==============================] - 3s 4ms/step - loss: 0.0037 - accuracy: 0.9994 - val_loss: 0.5738 - val_accuracy: 0.9773\n",
            "Epoch 81/100\n",
            "750/750 [==============================] - 3s 4ms/step - loss: 0.0116 - accuracy: 0.9987 - val_loss: 0.6816 - val_accuracy: 0.9772\n",
            "Epoch 82/100\n",
            "750/750 [==============================] - 3s 4ms/step - loss: 0.0074 - accuracy: 0.9990 - val_loss: 0.6481 - val_accuracy: 0.9794\n",
            "Epoch 83/100\n",
            "750/750 [==============================] - 3s 4ms/step - loss: 0.0138 - accuracy: 0.9988 - val_loss: 0.5703 - val_accuracy: 0.9769\n",
            "Epoch 84/100\n",
            "750/750 [==============================] - 3s 4ms/step - loss: 0.0089 - accuracy: 0.9990 - val_loss: 0.6587 - val_accuracy: 0.9777\n",
            "Epoch 85/100\n",
            "750/750 [==============================] - 3s 4ms/step - loss: 0.0030 - accuracy: 0.9997 - val_loss: 0.5811 - val_accuracy: 0.9791\n",
            "Epoch 86/100\n",
            "750/750 [==============================] - 3s 4ms/step - loss: 0.0040 - accuracy: 0.9994 - val_loss: 0.6242 - val_accuracy: 0.9772\n",
            "Epoch 87/100\n",
            "750/750 [==============================] - 3s 4ms/step - loss: 0.0132 - accuracy: 0.9986 - val_loss: 0.6830 - val_accuracy: 0.9783\n",
            "Epoch 88/100\n",
            "750/750 [==============================] - 3s 4ms/step - loss: 0.0100 - accuracy: 0.9991 - val_loss: 0.7246 - val_accuracy: 0.9763\n",
            "Epoch 89/100\n",
            "750/750 [==============================] - 3s 4ms/step - loss: 0.0041 - accuracy: 0.9995 - val_loss: 0.6804 - val_accuracy: 0.9776\n",
            "Epoch 90/100\n",
            "750/750 [==============================] - 3s 4ms/step - loss: 0.0065 - accuracy: 0.9992 - val_loss: 0.7071 - val_accuracy: 0.9756\n",
            "Epoch 91/100\n",
            "750/750 [==============================] - 3s 4ms/step - loss: 0.0068 - accuracy: 0.9991 - val_loss: 0.6974 - val_accuracy: 0.9762\n",
            "Epoch 92/100\n",
            "750/750 [==============================] - 3s 4ms/step - loss: 0.0067 - accuracy: 0.9992 - val_loss: 0.7605 - val_accuracy: 0.9766\n",
            "Epoch 93/100\n",
            "750/750 [==============================] - 3s 4ms/step - loss: 0.0062 - accuracy: 0.9992 - val_loss: 0.7222 - val_accuracy: 0.9768\n",
            "Epoch 94/100\n",
            "750/750 [==============================] - 3s 4ms/step - loss: 0.0062 - accuracy: 0.9991 - val_loss: 0.6987 - val_accuracy: 0.9778\n",
            "Epoch 95/100\n",
            "750/750 [==============================] - 3s 4ms/step - loss: 0.0112 - accuracy: 0.9990 - val_loss: 0.7579 - val_accuracy: 0.9779\n",
            "Epoch 96/100\n",
            "750/750 [==============================] - 3s 4ms/step - loss: 0.0104 - accuracy: 0.9991 - val_loss: 0.6189 - val_accuracy: 0.9780\n",
            "Epoch 97/100\n",
            "750/750 [==============================] - 3s 4ms/step - loss: 0.0052 - accuracy: 0.9992 - val_loss: 0.7175 - val_accuracy: 0.9773\n",
            "Epoch 98/100\n",
            "750/750 [==============================] - 3s 4ms/step - loss: 0.0056 - accuracy: 0.9993 - val_loss: 0.7527 - val_accuracy: 0.9779\n",
            "Epoch 99/100\n",
            "750/750 [==============================] - 3s 4ms/step - loss: 0.0091 - accuracy: 0.9991 - val_loss: 0.6894 - val_accuracy: 0.9783\n",
            "Epoch 100/100\n",
            "750/750 [==============================] - 3s 4ms/step - loss: 0.0057 - accuracy: 0.9995 - val_loss: 0.6584 - val_accuracy: 0.9798\n"
          ],
          "name": "stdout"
        }
      ]
    },
    {
      "cell_type": "code",
      "metadata": {
        "id": "X9Ifvhb7xQa9"
      },
      "source": [
        "full_model.save_weights('autoencoder_classification.h5')"
      ],
      "execution_count": 41,
      "outputs": []
    },
    {
      "cell_type": "code",
      "metadata": {
        "id": "VHVBSdaaxQdv"
      },
      "source": [
        "for layer in full_model.layers[0:19]:\n",
        "    layer.trainable = True"
      ],
      "execution_count": 42,
      "outputs": []
    },
    {
      "cell_type": "code",
      "metadata": {
        "id": "3QMRXerJxQgm"
      },
      "source": [
        "full_model.compile(loss=tf.keras.losses.categorical_crossentropy, optimizer=tf.keras.optimizers.Adam(),metrics=['accuracy'])"
      ],
      "execution_count": 44,
      "outputs": []
    },
    {
      "cell_type": "code",
      "metadata": {
        "colab": {
          "base_uri": "https://localhost:8080/"
        },
        "id": "JeJsjVeFzo9w",
        "outputId": "f2412d2d-dc1c-4ec3-ff77-fa2aa0a148da"
      },
      "source": [
        "classify_train = full_model.fit(train_X, train_label, batch_size=64,epochs=100,verbose=1,validation_data=(valid_X, valid_label))"
      ],
      "execution_count": 45,
      "outputs": [
        {
          "output_type": "stream",
          "text": [
            "Epoch 1/100\n",
            "750/750 [==============================] - 5s 7ms/step - loss: 0.1509 - accuracy: 0.9918 - val_loss: 0.9599 - val_accuracy: 0.9748\n",
            "Epoch 2/100\n",
            "750/750 [==============================] - 5s 7ms/step - loss: 0.0951 - accuracy: 0.9941 - val_loss: 0.6061 - val_accuracy: 0.9766\n",
            "Epoch 3/100\n",
            "750/750 [==============================] - 5s 7ms/step - loss: 0.0710 - accuracy: 0.9948 - val_loss: 0.6076 - val_accuracy: 0.9808\n",
            "Epoch 4/100\n",
            "750/750 [==============================] - 5s 7ms/step - loss: 0.0558 - accuracy: 0.9956 - val_loss: 0.6218 - val_accuracy: 0.9785\n",
            "Epoch 5/100\n",
            "750/750 [==============================] - 5s 7ms/step - loss: 0.0696 - accuracy: 0.9951 - val_loss: 0.4854 - val_accuracy: 0.9797\n",
            "Epoch 6/100\n",
            "750/750 [==============================] - 5s 7ms/step - loss: 0.0522 - accuracy: 0.9952 - val_loss: 0.5320 - val_accuracy: 0.9791\n",
            "Epoch 7/100\n",
            "750/750 [==============================] - 5s 7ms/step - loss: 0.0481 - accuracy: 0.9959 - val_loss: 0.5590 - val_accuracy: 0.9732\n",
            "Epoch 8/100\n",
            "750/750 [==============================] - 5s 7ms/step - loss: 0.0427 - accuracy: 0.9959 - val_loss: 0.4436 - val_accuracy: 0.9776\n",
            "Epoch 9/100\n",
            "750/750 [==============================] - 5s 7ms/step - loss: 0.0458 - accuracy: 0.9955 - val_loss: 0.4838 - val_accuracy: 0.9802\n",
            "Epoch 10/100\n",
            "750/750 [==============================] - 5s 7ms/step - loss: 0.0290 - accuracy: 0.9972 - val_loss: 0.4399 - val_accuracy: 0.9832\n",
            "Epoch 11/100\n",
            "750/750 [==============================] - 5s 7ms/step - loss: 0.0485 - accuracy: 0.9961 - val_loss: 0.5367 - val_accuracy: 0.9797\n",
            "Epoch 12/100\n",
            "750/750 [==============================] - 5s 7ms/step - loss: 0.0356 - accuracy: 0.9961 - val_loss: 0.4127 - val_accuracy: 0.9814\n",
            "Epoch 13/100\n",
            "750/750 [==============================] - 5s 7ms/step - loss: 0.0264 - accuracy: 0.9971 - val_loss: 0.4039 - val_accuracy: 0.9814\n",
            "Epoch 14/100\n",
            "750/750 [==============================] - 5s 6ms/step - loss: 0.0265 - accuracy: 0.9976 - val_loss: 0.3451 - val_accuracy: 0.9834\n",
            "Epoch 15/100\n",
            "750/750 [==============================] - 5s 7ms/step - loss: 0.0260 - accuracy: 0.9970 - val_loss: 0.4079 - val_accuracy: 0.9819\n",
            "Epoch 16/100\n",
            "750/750 [==============================] - 5s 7ms/step - loss: 0.0230 - accuracy: 0.9969 - val_loss: 0.3361 - val_accuracy: 0.9862\n",
            "Epoch 17/100\n",
            "750/750 [==============================] - 5s 7ms/step - loss: 0.0208 - accuracy: 0.9975 - val_loss: 0.2712 - val_accuracy: 0.9856\n",
            "Epoch 18/100\n",
            "750/750 [==============================] - 5s 7ms/step - loss: 0.0291 - accuracy: 0.9968 - val_loss: 0.3127 - val_accuracy: 0.9833\n",
            "Epoch 19/100\n",
            "750/750 [==============================] - 5s 6ms/step - loss: 0.0217 - accuracy: 0.9973 - val_loss: 0.3249 - val_accuracy: 0.9853\n",
            "Epoch 20/100\n",
            "750/750 [==============================] - 5s 7ms/step - loss: 0.0176 - accuracy: 0.9978 - val_loss: 0.2887 - val_accuracy: 0.9869\n",
            "Epoch 21/100\n",
            "750/750 [==============================] - 5s 7ms/step - loss: 0.0252 - accuracy: 0.9974 - val_loss: 0.3498 - val_accuracy: 0.9833\n",
            "Epoch 22/100\n",
            "750/750 [==============================] - 5s 7ms/step - loss: 0.0165 - accuracy: 0.9978 - val_loss: 0.4072 - val_accuracy: 0.9815\n",
            "Epoch 23/100\n",
            "750/750 [==============================] - 5s 7ms/step - loss: 0.0161 - accuracy: 0.9978 - val_loss: 0.2757 - val_accuracy: 0.9863\n",
            "Epoch 24/100\n",
            "750/750 [==============================] - 5s 7ms/step - loss: 0.0218 - accuracy: 0.9975 - val_loss: 0.2445 - val_accuracy: 0.9865\n",
            "Epoch 25/100\n",
            "750/750 [==============================] - 5s 7ms/step - loss: 0.0153 - accuracy: 0.9982 - val_loss: 0.2417 - val_accuracy: 0.9858\n",
            "Epoch 26/100\n",
            "750/750 [==============================] - 5s 7ms/step - loss: 0.0145 - accuracy: 0.9979 - val_loss: 0.2449 - val_accuracy: 0.9864\n",
            "Epoch 27/100\n",
            "750/750 [==============================] - 5s 7ms/step - loss: 0.0170 - accuracy: 0.9977 - val_loss: 0.3180 - val_accuracy: 0.9857\n",
            "Epoch 28/100\n",
            "750/750 [==============================] - 5s 7ms/step - loss: 0.0126 - accuracy: 0.9983 - val_loss: 0.2737 - val_accuracy: 0.9877\n",
            "Epoch 29/100\n",
            "750/750 [==============================] - 5s 7ms/step - loss: 0.0074 - accuracy: 0.9990 - val_loss: 0.2328 - val_accuracy: 0.9879\n",
            "Epoch 30/100\n",
            "750/750 [==============================] - 5s 7ms/step - loss: 0.0103 - accuracy: 0.9985 - val_loss: 0.2456 - val_accuracy: 0.9877\n",
            "Epoch 31/100\n",
            "750/750 [==============================] - 5s 7ms/step - loss: 0.0220 - accuracy: 0.9973 - val_loss: 0.2822 - val_accuracy: 0.9862\n",
            "Epoch 32/100\n",
            "750/750 [==============================] - 5s 7ms/step - loss: 0.0173 - accuracy: 0.9979 - val_loss: 0.2110 - val_accuracy: 0.9872\n",
            "Epoch 33/100\n",
            "750/750 [==============================] - 5s 7ms/step - loss: 0.0119 - accuracy: 0.9983 - val_loss: 0.2953 - val_accuracy: 0.9868\n",
            "Epoch 34/100\n",
            "750/750 [==============================] - 5s 7ms/step - loss: 0.0123 - accuracy: 0.9983 - val_loss: 0.2898 - val_accuracy: 0.9875\n",
            "Epoch 35/100\n",
            "750/750 [==============================] - 5s 7ms/step - loss: 0.0083 - accuracy: 0.9991 - val_loss: 0.2540 - val_accuracy: 0.9889\n",
            "Epoch 36/100\n",
            "750/750 [==============================] - 5s 7ms/step - loss: 0.0075 - accuracy: 0.9987 - val_loss: 0.2364 - val_accuracy: 0.9875\n",
            "Epoch 37/100\n",
            "750/750 [==============================] - 5s 7ms/step - loss: 0.0188 - accuracy: 0.9979 - val_loss: 0.2392 - val_accuracy: 0.9859\n",
            "Epoch 38/100\n",
            "750/750 [==============================] - 5s 7ms/step - loss: 0.0122 - accuracy: 0.9986 - val_loss: 0.2661 - val_accuracy: 0.9855\n",
            "Epoch 39/100\n",
            "750/750 [==============================] - 5s 7ms/step - loss: 0.0047 - accuracy: 0.9994 - val_loss: 0.2135 - val_accuracy: 0.9888\n",
            "Epoch 40/100\n",
            "750/750 [==============================] - 5s 7ms/step - loss: 0.0107 - accuracy: 0.9986 - val_loss: 0.2482 - val_accuracy: 0.9862\n",
            "Epoch 41/100\n",
            "750/750 [==============================] - 5s 7ms/step - loss: 0.0132 - accuracy: 0.9983 - val_loss: 0.2451 - val_accuracy: 0.9871\n",
            "Epoch 42/100\n",
            "750/750 [==============================] - 5s 7ms/step - loss: 0.0159 - accuracy: 0.9982 - val_loss: 0.2829 - val_accuracy: 0.9857\n",
            "Epoch 43/100\n",
            "750/750 [==============================] - 5s 7ms/step - loss: 0.0056 - accuracy: 0.9992 - val_loss: 0.2403 - val_accuracy: 0.9852\n",
            "Epoch 44/100\n",
            "750/750 [==============================] - 5s 7ms/step - loss: 0.0088 - accuracy: 0.9987 - val_loss: 0.3057 - val_accuracy: 0.9840\n",
            "Epoch 45/100\n",
            "750/750 [==============================] - 5s 7ms/step - loss: 0.0140 - accuracy: 0.9981 - val_loss: 0.1943 - val_accuracy: 0.9881\n",
            "Epoch 46/100\n",
            "750/750 [==============================] - 5s 7ms/step - loss: 0.0092 - accuracy: 0.9986 - val_loss: 0.3024 - val_accuracy: 0.9875\n",
            "Epoch 47/100\n",
            "750/750 [==============================] - 5s 7ms/step - loss: 0.0061 - accuracy: 0.9989 - val_loss: 0.2572 - val_accuracy: 0.9875\n",
            "Epoch 48/100\n",
            "750/750 [==============================] - 5s 7ms/step - loss: 0.0082 - accuracy: 0.9988 - val_loss: 0.2045 - val_accuracy: 0.9896\n",
            "Epoch 49/100\n",
            "750/750 [==============================] - 5s 7ms/step - loss: 0.0091 - accuracy: 0.9987 - val_loss: 0.2154 - val_accuracy: 0.9885\n",
            "Epoch 50/100\n",
            "750/750 [==============================] - 5s 7ms/step - loss: 0.0068 - accuracy: 0.9992 - val_loss: 0.2567 - val_accuracy: 0.9869\n",
            "Epoch 51/100\n",
            "750/750 [==============================] - 5s 7ms/step - loss: 0.0112 - accuracy: 0.9985 - val_loss: 0.2151 - val_accuracy: 0.9876\n",
            "Epoch 52/100\n",
            "750/750 [==============================] - 5s 7ms/step - loss: 0.0051 - accuracy: 0.9991 - val_loss: 0.2280 - val_accuracy: 0.9879\n",
            "Epoch 53/100\n",
            "750/750 [==============================] - 5s 7ms/step - loss: 0.0105 - accuracy: 0.9987 - val_loss: 0.2073 - val_accuracy: 0.9887\n",
            "Epoch 54/100\n",
            "750/750 [==============================] - 5s 7ms/step - loss: 0.0063 - accuracy: 0.9990 - val_loss: 0.2613 - val_accuracy: 0.9870\n",
            "Epoch 55/100\n",
            "750/750 [==============================] - 5s 7ms/step - loss: 0.0078 - accuracy: 0.9987 - val_loss: 0.2568 - val_accuracy: 0.9879\n",
            "Epoch 56/100\n",
            "750/750 [==============================] - 5s 7ms/step - loss: 0.0138 - accuracy: 0.9983 - val_loss: 0.2124 - val_accuracy: 0.9885\n",
            "Epoch 57/100\n",
            "750/750 [==============================] - 5s 7ms/step - loss: 0.0104 - accuracy: 0.9987 - val_loss: 0.2271 - val_accuracy: 0.9879\n",
            "Epoch 58/100\n",
            "750/750 [==============================] - 5s 7ms/step - loss: 0.0052 - accuracy: 0.9993 - val_loss: 0.2148 - val_accuracy: 0.9884\n",
            "Epoch 59/100\n",
            "750/750 [==============================] - 5s 7ms/step - loss: 0.0034 - accuracy: 0.9993 - val_loss: 0.2308 - val_accuracy: 0.9898\n",
            "Epoch 60/100\n",
            "750/750 [==============================] - 5s 7ms/step - loss: 0.0079 - accuracy: 0.9990 - val_loss: 0.1916 - val_accuracy: 0.9891\n",
            "Epoch 61/100\n",
            "750/750 [==============================] - 5s 7ms/step - loss: 0.0107 - accuracy: 0.9987 - val_loss: 0.2652 - val_accuracy: 0.9873\n",
            "Epoch 62/100\n",
            "750/750 [==============================] - 5s 7ms/step - loss: 0.0077 - accuracy: 0.9989 - val_loss: 0.2878 - val_accuracy: 0.9865\n",
            "Epoch 63/100\n",
            "750/750 [==============================] - 5s 7ms/step - loss: 0.0046 - accuracy: 0.9995 - val_loss: 0.1994 - val_accuracy: 0.9897\n",
            "Epoch 64/100\n",
            "750/750 [==============================] - 5s 7ms/step - loss: 0.0055 - accuracy: 0.9991 - val_loss: 0.2132 - val_accuracy: 0.9868\n",
            "Epoch 65/100\n",
            "750/750 [==============================] - 5s 7ms/step - loss: 0.0089 - accuracy: 0.9989 - val_loss: 0.2227 - val_accuracy: 0.9886\n",
            "Epoch 66/100\n",
            "750/750 [==============================] - 5s 7ms/step - loss: 0.0048 - accuracy: 0.9992 - val_loss: 0.1963 - val_accuracy: 0.9884\n",
            "Epoch 67/100\n",
            "750/750 [==============================] - 5s 7ms/step - loss: 0.0086 - accuracy: 0.9989 - val_loss: 0.1619 - val_accuracy: 0.9896\n",
            "Epoch 68/100\n",
            "750/750 [==============================] - 5s 7ms/step - loss: 0.0047 - accuracy: 0.9994 - val_loss: 0.1722 - val_accuracy: 0.9895\n",
            "Epoch 69/100\n",
            "750/750 [==============================] - 5s 7ms/step - loss: 0.0058 - accuracy: 0.9992 - val_loss: 0.1745 - val_accuracy: 0.9896\n",
            "Epoch 70/100\n",
            "750/750 [==============================] - 5s 7ms/step - loss: 0.0056 - accuracy: 0.9992 - val_loss: 0.1800 - val_accuracy: 0.9894\n",
            "Epoch 71/100\n",
            "750/750 [==============================] - 5s 7ms/step - loss: 0.0032 - accuracy: 0.9995 - val_loss: 0.1612 - val_accuracy: 0.9899\n",
            "Epoch 72/100\n",
            "750/750 [==============================] - 5s 7ms/step - loss: 0.0052 - accuracy: 0.9990 - val_loss: 0.2054 - val_accuracy: 0.9866\n",
            "Epoch 73/100\n",
            "750/750 [==============================] - 5s 7ms/step - loss: 0.0077 - accuracy: 0.9991 - val_loss: 0.1852 - val_accuracy: 0.9887\n",
            "Epoch 74/100\n",
            "750/750 [==============================] - 5s 7ms/step - loss: 0.0036 - accuracy: 0.9994 - val_loss: 0.1805 - val_accuracy: 0.9902\n",
            "Epoch 75/100\n",
            "750/750 [==============================] - 5s 7ms/step - loss: 0.0013 - accuracy: 0.9998 - val_loss: 0.1819 - val_accuracy: 0.9901\n",
            "Epoch 76/100\n",
            "750/750 [==============================] - 5s 7ms/step - loss: 0.0045 - accuracy: 0.9994 - val_loss: 0.2248 - val_accuracy: 0.9879\n",
            "Epoch 77/100\n",
            "750/750 [==============================] - 5s 7ms/step - loss: 0.0085 - accuracy: 0.9986 - val_loss: 0.2425 - val_accuracy: 0.9889\n",
            "Epoch 78/100\n",
            "750/750 [==============================] - 5s 7ms/step - loss: 0.0037 - accuracy: 0.9994 - val_loss: 0.2194 - val_accuracy: 0.9898\n",
            "Epoch 79/100\n",
            "750/750 [==============================] - 5s 7ms/step - loss: 0.0016 - accuracy: 0.9997 - val_loss: 0.2109 - val_accuracy: 0.9889\n",
            "Epoch 80/100\n",
            "750/750 [==============================] - 5s 7ms/step - loss: 0.0118 - accuracy: 0.9987 - val_loss: 0.2072 - val_accuracy: 0.9872\n",
            "Epoch 81/100\n",
            "750/750 [==============================] - 5s 7ms/step - loss: 0.0069 - accuracy: 0.9991 - val_loss: 0.2095 - val_accuracy: 0.9877\n",
            "Epoch 82/100\n",
            "750/750 [==============================] - 5s 7ms/step - loss: 0.0016 - accuracy: 0.9995 - val_loss: 0.2056 - val_accuracy: 0.9885\n",
            "Epoch 83/100\n",
            "750/750 [==============================] - 5s 7ms/step - loss: 0.0015 - accuracy: 0.9998 - val_loss: 0.2141 - val_accuracy: 0.9887\n",
            "Epoch 84/100\n",
            "750/750 [==============================] - 5s 7ms/step - loss: 0.0053 - accuracy: 0.9992 - val_loss: 0.2042 - val_accuracy: 0.9895\n",
            "Epoch 85/100\n",
            "750/750 [==============================] - 5s 7ms/step - loss: 0.0042 - accuracy: 0.9993 - val_loss: 0.1838 - val_accuracy: 0.9875\n",
            "Epoch 86/100\n",
            "750/750 [==============================] - 5s 7ms/step - loss: 0.0067 - accuracy: 0.9991 - val_loss: 0.2129 - val_accuracy: 0.9901\n",
            "Epoch 87/100\n",
            "750/750 [==============================] - 5s 7ms/step - loss: 0.0045 - accuracy: 0.9992 - val_loss: 0.1902 - val_accuracy: 0.9893\n",
            "Epoch 88/100\n",
            "750/750 [==============================] - 5s 7ms/step - loss: 0.0034 - accuracy: 0.9994 - val_loss: 0.1497 - val_accuracy: 0.9906\n",
            "Epoch 89/100\n",
            "750/750 [==============================] - 5s 7ms/step - loss: 0.0024 - accuracy: 0.9995 - val_loss: 0.1714 - val_accuracy: 0.9899\n",
            "Epoch 90/100\n",
            "750/750 [==============================] - 5s 7ms/step - loss: 0.0058 - accuracy: 0.9993 - val_loss: 0.1648 - val_accuracy: 0.9887\n",
            "Epoch 91/100\n",
            "750/750 [==============================] - 5s 7ms/step - loss: 0.0083 - accuracy: 0.9989 - val_loss: 0.1806 - val_accuracy: 0.9884\n",
            "Epoch 92/100\n",
            "750/750 [==============================] - 5s 7ms/step - loss: 0.0042 - accuracy: 0.9994 - val_loss: 0.1835 - val_accuracy: 0.9889\n",
            "Epoch 93/100\n",
            "750/750 [==============================] - 5s 7ms/step - loss: 0.0052 - accuracy: 0.9992 - val_loss: 0.1654 - val_accuracy: 0.9891\n",
            "Epoch 94/100\n",
            "750/750 [==============================] - 5s 7ms/step - loss: 0.0035 - accuracy: 0.9995 - val_loss: 0.1807 - val_accuracy: 0.9905\n",
            "Epoch 95/100\n",
            "750/750 [==============================] - 5s 7ms/step - loss: 0.0010 - accuracy: 0.9998 - val_loss: 0.1899 - val_accuracy: 0.9901\n",
            "Epoch 96/100\n",
            "750/750 [==============================] - 5s 7ms/step - loss: 9.2686e-04 - accuracy: 0.9997 - val_loss: 0.1924 - val_accuracy: 0.9901\n",
            "Epoch 97/100\n",
            "750/750 [==============================] - 5s 7ms/step - loss: 0.0051 - accuracy: 0.9994 - val_loss: 0.1978 - val_accuracy: 0.9887\n",
            "Epoch 98/100\n",
            "750/750 [==============================] - 5s 7ms/step - loss: 0.0067 - accuracy: 0.9990 - val_loss: 0.1727 - val_accuracy: 0.9892\n",
            "Epoch 99/100\n",
            "750/750 [==============================] - 5s 7ms/step - loss: 0.0010 - accuracy: 0.9998 - val_loss: 0.2036 - val_accuracy: 0.9898\n",
            "Epoch 100/100\n",
            "750/750 [==============================] - 5s 7ms/step - loss: 0.0051 - accuracy: 0.9993 - val_loss: 0.2008 - val_accuracy: 0.9895\n"
          ],
          "name": "stdout"
        }
      ]
    },
    {
      "cell_type": "code",
      "metadata": {
        "id": "kJx1iF7tzpJi"
      },
      "source": [
        "full_model.save_weights('classification_complete.h5')"
      ],
      "execution_count": 46,
      "outputs": []
    },
    {
      "cell_type": "code",
      "metadata": {
        "colab": {
          "base_uri": "https://localhost:8080/",
          "height": 545
        },
        "id": "T6N9dAQ7zpPm",
        "outputId": "4d67dcb8-42cf-4927-e1ec-5f1918168968"
      },
      "source": [
        "accuracy = classify_train.history['accuracy']\n",
        "val_accuracy = classify_train.history['val_accuracy']\n",
        "loss = classify_train.history['loss']\n",
        "val_loss = classify_train.history['val_loss']\n",
        "epochs = range(len(accuracy))\n",
        "plt.plot(epochs, accuracy, 'bo', label='Training accuracy')\n",
        "plt.plot(epochs, val_accuracy, 'b', label='Validation accuracy')\n",
        "plt.title('Training and validation accuracy')\n",
        "plt.legend()\n",
        "plt.figure()\n",
        "plt.plot(epochs, loss, 'bo', label='Training loss')\n",
        "plt.plot(epochs, val_loss, 'b', label='Validation loss')\n",
        "plt.title('Training and validation loss')\n",
        "plt.legend()\n",
        "plt.show()"
      ],
      "execution_count": 47,
      "outputs": [
        {
          "output_type": "display_data",
          "data": {
            "image/png": "[encoded data removed]",
            "text/plain": [
              "<Figure size 432x288 with 1 Axes>"
            ]
          },
          "metadata": {
            "tags": [],
            "needs_background": "light"
          }
        },
        {
          "output_type": "display_data",
          "data": {
            "image/png": "[encoded data removed]",
            "text/plain": [
              "<Figure size 432x288 with 1 Axes>"
            ]
          },
          "metadata": {
            "tags": [],
            "needs_background": "light"
          }
        }
      ]
    },
    {
      "cell_type": "markdown",
      "metadata": {
        "id": "ZvE76PPN0Ai_"
      },
      "source": [
        "# Model Evaluation on the Test Set"
      ]
    },
    {
      "cell_type": "code",
      "metadata": {
        "id": "WtBuMWtb0BCo"
      },
      "source": [
        "test_eval = full_model.evaluate(test_data, test_Y_one_hot, verbose=0)"
      ],
      "execution_count": 48,
      "outputs": []
    },
    {
      "cell_type": "code",
      "metadata": {
        "colab": {
          "base_uri": "https://localhost:8080/"
        },
        "id": "FCDGi9jd0Fsf",
        "outputId": "cff4ed0a-cc17-4e71-b149-20c3c0d70848"
      },
      "source": [
        "print('Test loss:', test_eval[0])\n",
        "print('Test accuracy:', test_eval[1])"
      ],
      "execution_count": 49,
      "outputs": [
        {
          "output_type": "stream",
          "text": [
            "Test loss: 0.17229920625686646\n",
            "Test accuracy: 0.9894000291824341\n"
          ],
          "name": "stdout"
        }
      ]
    },
    {
      "cell_type": "markdown",
      "metadata": {
        "id": "yx-Sj_HX0KyW"
      },
      "source": [
        "# Predict Labels"
      ]
    },
    {
      "cell_type": "code",
      "metadata": {
        "id": "eGziw9fo0IKU"
      },
      "source": [
        "predicted_classes = full_model.predict(test_data)"
      ],
      "execution_count": 50,
      "outputs": []
    },
    {
      "cell_type": "code",
      "metadata": {
        "id": "3yrzR_hr0OtA"
      },
      "source": [
        "predicted_classes = np.argmax(np.round(predicted_classes),axis=1)"
      ],
      "execution_count": 51,
      "outputs": []
    },
    {
      "cell_type": "code",
      "metadata": {
        "colab": {
          "base_uri": "https://localhost:8080/"
        },
        "id": "E7YneAcP0UvO",
        "outputId": "784fd3a6-72e0-487e-d3ad-2a7bd829adad"
      },
      "source": [
        "predicted_classes.shape, test_labels.shape"
      ],
      "execution_count": 52,
      "outputs": [
        {
          "output_type": "execute_result",
          "data": {
            "text/plain": [
              "((10000,), (10000,))"
            ]
          },
          "metadata": {
            "tags": []
          },
          "execution_count": 52
        }
      ]
    },
    {
      "cell_type": "code",
      "metadata": {
        "colab": {
          "base_uri": "https://localhost:8080/",
          "height": 314
        },
        "id": "Zlg8b-b20XXM",
        "outputId": "1aaed55f-0e6c-48be-b947-26b6c9b8284c"
      },
      "source": [
        "correct = np.where(predicted_classes==test_labels)[0]\n",
        "print(\"Found %d correct labels\" % len(correct))\n",
        "for i, correct in enumerate(correct[:9]):\n",
        "    plt.subplot(3,3,i+1)\n",
        "    plt.imshow(test_data[correct].reshape(28,28), cmap='gray', interpolation='none')\n",
        "    plt.title(\"Predicted {}, Class {}\".format(predicted_classes[correct], test_labels[correct]))\n",
        "    plt.tight_layout()"
      ],
      "execution_count": 53,
      "outputs": [
        {
          "output_type": "stream",
          "text": [
            "Found 9893 correct labels\n"
          ],
          "name": "stdout"
        },
        {
          "output_type": "display_data",
          "data": {
            "image/png": "[encoded data removed]",
            "text/plain": [
              "<Figure size 432x288 with 9 Axes>"
            ]
          },
          "metadata": {
            "tags": [],
            "needs_background": "light"
          }
        }
      ]
    },
    {
      "cell_type": "code",
      "metadata": {
        "colab": {
          "base_uri": "https://localhost:8080/",
          "height": 314
        },
        "id": "uD5n9xhC0ZnK",
        "outputId": "06f971a6-6a88-42f3-9b3c-0852146769af"
      },
      "source": [
        "incorrect = np.where(predicted_classes!=test_labels)[0]\n",
        "print(\"Found %d incorrect labels\" % len(incorrect))\n",
        "for i, incorrect in enumerate(incorrect[:9]):\n",
        "    plt.subplot(3,3,i+1)\n",
        "    plt.imshow(test_data[incorrect].reshape(28,28), cmap='gray', interpolation='none')\n",
        "    plt.title(\"Predicted {}, Class {}\".format(predicted_classes[incorrect], test_labels[incorrect]))\n",
        "    plt.tight_layout()"
      ],
      "execution_count": 54,
      "outputs": [
        {
          "output_type": "stream",
          "text": [
            "Found 107 incorrect labels\n"
          ],
          "name": "stdout"
        },
        {
          "output_type": "display_data",
          "data": {
            "image/png": "[encoded data removed]",
            "text/plain": [
              "<Figure size 432x288 with 9 Axes>"
            ]
          },
          "metadata": {
            "tags": [],
            "needs_background": "light"
          }
        }
      ]
    },
    {
      "cell_type": "markdown",
      "metadata": {
        "id": "lUNmgqSg0epg"
      },
      "source": [
        "# Classification Report"
      ]
    },
    {
      "cell_type": "code",
      "metadata": {
        "colab": {
          "base_uri": "https://localhost:8080/"
        },
        "id": "HbZeLvD-0b-Y",
        "outputId": "ee8568c0-304e-4fb4-a512-ec244a102d4d"
      },
      "source": [
        "from sklearn.metrics import classification_report\n",
        "target_names = [\"Class {}\".format(i) for i in range(num_classes)]\n",
        "print(classification_report(test_labels, predicted_classes, target_names=target_names))"
      ],
      "execution_count": 55,
      "outputs": [
        {
          "output_type": "stream",
          "text": [
            "              precision    recall  f1-score   support\n",
            "\n",
            "     Class 0       0.99      1.00      0.99       980\n",
            "     Class 1       0.99      1.00      1.00      1135\n",
            "     Class 2       0.99      0.99      0.99      1032\n",
            "     Class 3       0.99      0.99      0.99      1010\n",
            "     Class 4       0.99      0.99      0.99       982\n",
            "     Class 5       0.98      0.99      0.98       892\n",
            "     Class 6       0.99      0.99      0.99       958\n",
            "     Class 7       0.99      0.99      0.99      1028\n",
            "     Class 8       1.00      0.99      0.99       974\n",
            "     Class 9       0.98      0.98      0.98      1009\n",
            "\n",
            "    accuracy                           0.99     10000\n",
            "   macro avg       0.99      0.99      0.99     10000\n",
            "weighted avg       0.99      0.99      0.99     10000\n",
            "\n"
          ],
          "name": "stdout"
        }
      ]
    }
  ]
}